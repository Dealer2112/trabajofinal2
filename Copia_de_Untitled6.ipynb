{
  "nbformat": 4,
  "nbformat_minor": 0,
  "metadata": {
    "colab": {
      "provenance": [],
      "authorship_tag": "ABX9TyNu/hGOxs46dyGvQzfon4Eu",
      "include_colab_link": true
    },
    "kernelspec": {
      "name": "python3",
      "display_name": "Python 3"
    },
    "language_info": {
      "name": "python"
    }
  },
  "cells": [
    {
      "cell_type": "markdown",
      "metadata": {
        "id": "view-in-github",
        "colab_type": "text"
      },
      "source": [
        "<a href=\"https://colab.research.google.com/github/Dealer2112/trabajofinal2/blob/main/Copia_de_Untitled6.ipynb\" target=\"_parent\"><img src=\"https://colab.research.google.com/assets/colab-badge.svg\" alt=\"Open In Colab\"/></a>"
      ]
    },
    {
      "cell_type": "code",
      "execution_count": null,
      "metadata": {
        "id": "-V79qYj6de8i"
      },
      "outputs": [],
      "source": [
        "import pandas as pd\n",
        "import matplotlib.pyplot as plt\n",
        "import seaborn as sns\n",
        "\n",
        "# Cargar el dataset de Excel\n",
        "df = pd.read_excel('/content/Copia de sla_mexico Revisión (1).xlsx')\n"
      ]
    },
    {
      "cell_type": "code",
      "source": [
        "# 1.Abstracto con Motivación y Audiencia\n",
        "# Motivación: Optimizar el flujo de trabajo en la gestión de cuentas es crucial para mejorar la eficiencia y reducir los tiempos de ciclo.\n",
        "# Utilizando un dataset que incluye información sobre tiempos de ciclo, reasignaciones y participación de agentes,\n",
        "# se busca identificar patrones y factores que afectan el flujo de trabajo para implementar mejoras efectivas.\n",
        "#\n",
        "# Objetivo: Aplicar técnicas de Machine Learning para analizar y mejorar el flujo de trabajo en la gestión de cuentas,\n",
        "# enfocándose en los tiempos de ciclo, la frecuencia de reasignaciones y la participación de agentes.\n",
        "# El objetivo es optimizar los procesos para aumentar la eficiencia y eficacia en la gestión de cuentas.\n",
        "\n",
        "## Poibles Problemas Identificados:\n",
        "\n",
        "#Sobrecarga de Trabajo: ¿Los gestores con alto volumen de cuentas están experimentando demoras significativas debido a su carga de trabajo?\n",
        "#Condiciones Locales: ¿Existen problemas específicos en regiones con pocos cuentas asignadas pero altas demoras?"
      ],
      "metadata": {
        "id": "bi3A1_K2bYek"
      },
      "execution_count": null,
      "outputs": []
    },
    {
      "cell_type": "code",
      "source": [
        "#2.1 Resumen de información del DataFrame\n",
        "df.info()"
      ],
      "metadata": {
        "id": "BIfeu5KVdAPy",
        "colab": {
          "base_uri": "https://localhost:8080/"
        },
        "outputId": "577f5bf3-9cd2-4e8f-f3eb-8d80ee412792"
      },
      "execution_count": null,
      "outputs": [
        {
          "output_type": "stream",
          "name": "stdout",
          "text": [
            "<class 'pandas.core.frame.DataFrame'>\n",
            "RangeIndex: 1036 entries, 0 to 1035\n",
            "Data columns (total 15 columns):\n",
            " #   Column                          Non-Null Count  Dtype         \n",
            "---  ------                          --------------  -----         \n",
            " 0   fec_activacion                  1036 non-null   datetime64[ns]\n",
            " 1   id_externo_cliente              1036 non-null   object        \n",
            " 2   id_cuenta                       1036 non-null   int64         \n",
            " 3   id_cliente                      1036 non-null   int64         \n",
            " 4   id_acreditado                   1036 non-null   int64         \n",
            " 5   id_acreditado_cuenta_domicilio  1036 non-null   int64         \n",
            " 6   id_estado                       1036 non-null   int64         \n",
            " 7   id_municipio                    1036 non-null   int64         \n",
            " 8   fec_asignacion                  1036 non-null   datetime64[ns]\n",
            " 9   fec_apartado                    1036 non-null   datetime64[ns]\n",
            " 10  id_agente_apartado              1036 non-null   int64         \n",
            " 11  id_agente                       1036 non-null   int64         \n",
            " 12  id_visita                       1036 non-null   int64         \n",
            " 13  fec_finalizada                  1036 non-null   datetime64[ns]\n",
            " 14  fec_finalizada ajustada         1036 non-null   datetime64[ns]\n",
            "dtypes: datetime64[ns](5), int64(9), object(1)\n",
            "memory usage: 121.5+ KB\n"
          ]
        }
      ]
    },
    {
      "cell_type": "code",
      "source": [
        "#2.3 Dimensiones del DataFrame\n",
        "df.shape"
      ],
      "metadata": {
        "id": "zZSgL6bfdbe7",
        "colab": {
          "base_uri": "https://localhost:8080/"
        },
        "outputId": "f0f8bffb-c907-486a-8cc9-2a573e141155"
      },
      "execution_count": null,
      "outputs": [
        {
          "output_type": "execute_result",
          "data": {
            "text/plain": [
              "(1036, 15)"
            ]
          },
          "metadata": {},
          "execution_count": 3
        }
      ]
    },
    {
      "cell_type": "code",
      "source": [
        "#2.4 # Crear una nueva columna 'nuevo_id' que contenga un índice único para cada fila\n",
        "df['nuevo_id'] = range(1, len(df) + 1)\n",
        "\n",
        "# Verificar las primeras filas para asegurarnos de que se creó correctamente\n",
        "print(df[['nuevo_id', 'id_externo_cliente', 'fec_asignacion']].head(10))\n",
        "\n"
      ],
      "metadata": {
        "colab": {
          "base_uri": "https://localhost:8080/"
        },
        "id": "ECWVRuxMnesZ",
        "outputId": "4f1884cd-c26f-41e1-baf0-abd9757815b1"
      },
      "execution_count": null,
      "outputs": [
        {
          "output_type": "stream",
          "name": "stdout",
          "text": [
            "   nuevo_id id_externo_cliente      fec_asignacion\n",
            "0         1              61858 2024-04-29 22:20:28\n",
            "1         2              45091 2024-05-21 19:24:29\n",
            "2         3              33846 2023-02-24 19:12:07\n",
            "3         4              53345 2024-01-22 08:23:09\n",
            "4         5              54816 2023-10-17 18:00:41\n",
            "5         6              43450 2023-04-26 15:21:52\n",
            "6         7              55101 2024-02-22 17:32:52\n",
            "7         8              54521 2023-04-18 17:30:10\n",
            "8         9              41252 2023-05-15 17:17:05\n",
            "9        10              41153 2023-04-21 14:45:09\n"
          ]
        }
      ]
    },
    {
      "cell_type": "code",
      "source": [
        "#2.4 Descripción de las variables en el conjunto de datos:\n",
        "# id_cuenta: Identificador único de la cuenta.\n",
        "# id_domicilio: Identificador único del domicilio.\n",
        "# fec_activacion: Momento en que la cuenta se carga en el sistema.\n",
        "# fec_asignacion: Momento en que la cuenta se asigna a un agente o recurso.\n",
        "# fec_apartado: Momento en que el agente aparta el domicilio para la visita.\n",
        "# fec_visita: Momento en que se realiza la visita.\n",
        "# id_externo_cliente: Identificador externo del cliente.\n",
        "# id_cliente: Identificador del cliente asociado a la cuenta.\n",
        "# id_acreditado: Identificador del acreditado.\n",
        "# id_acreditado_cuenta_domicilio: Identificador único que relaciona al acreditado, cuenta y domicilio.\n",
        "# id_estado: Identificador del estado (ubicación geográfica).\n",
        "# id_municipio: Identificador del municipio (ubicación geográfica).\n",
        "# id_agente_asignado: Identificador del agente asignado.\n",
        "# id_agente_apartado: Identificador del agente que aparta el domicilio para visita.\n",
        "# id_agente: Identificador del agente responsable de la visita.\n",
        "# id_visita: Identificador de la visita.\n",
        "# fec_finalizada: Fecha en que se finalizó la gestión de la cuenta.\n",
        "##Opiones de columnas.\n",
        "## fec_finalizada ajustada:Fecha en que se finalizó la gestión de la cuenta (se ajustaron datos).\n",
        "\n"
      ],
      "metadata": {
        "id": "RH4lIGmzejG_"
      },
      "execution_count": null,
      "outputs": []
    },
    {
      "cell_type": "code",
      "source": [
        "#2.5 Identificación de Celdas Vacías\n",
        "# Mostrar el número de valores nulos en cada columna\n",
        "print(\"Número de valores nulos por columna:\")\n",
        "print(df.isnull().sum())"
      ],
      "metadata": {
        "id": "M88Hy7O5cFn7",
        "colab": {
          "base_uri": "https://localhost:8080/"
        },
        "outputId": "ba1c5d5b-e350-474d-bb49-ebf58aba1cb2"
      },
      "execution_count": null,
      "outputs": [
        {
          "output_type": "stream",
          "name": "stdout",
          "text": [
            "Número de valores nulos por columna:\n",
            "fec_activacion                    0\n",
            "id_externo_cliente                0\n",
            "id_cuenta                         0\n",
            "id_cliente                        0\n",
            "id_acreditado                     0\n",
            "id_acreditado_cuenta_domicilio    0\n",
            "id_estado                         0\n",
            "id_municipio                      0\n",
            "fec_asignacion                    0\n",
            "fec_apartado                      0\n",
            "id_agente_apartado                0\n",
            "id_agente                         0\n",
            "id_visita                         0\n",
            "fec_finalizada                    0\n",
            "fec_finalizada ajustada           0\n",
            "nuevo_id                          0\n",
            "dtype: int64\n"
          ]
        }
      ]
    },
    {
      "cell_type": "code",
      "source": [
        "# Resumen de manejo de celdas vacías en el dataset\n",
        "\n",
        "# 1. id_agente\n",
        "# Celdas vacías: 487\n",
        "# Manejo: Se asignó el valor \"Sin agente asignado\" a las celdas vacías donde\n",
        "#         id_visita tenía la etiqueta \"Sin visita y sin finalización\".\n",
        "\n",
        "# 2. id_agente_apartado\n",
        "# Celdas vacías: 453\n",
        "# Manejo: Se asignó el valor \"Sin agente apartado\" a las celdas vacías en\n",
        "#         cuentas que tenían etiquetas similares.\n",
        "\n",
        "# 3. fec_apartado\n",
        "# Celdas vacías: 487\n",
        "# Manejo: Se decidieron mantener las celdas vacías, ya que no hubo apartado ni asignación.\n",
        "\n",
        "# 4. fec_finalizada\n",
        "# Celdas vacías: 487\n",
        "# Manejo: Se mantendrán las celdas vacías, reflejando la ausencia de finalización\n",
        "#         en cuentas sin asignación ni visita.\n",
        "\n",
        "# 5. fec_asignacion\n",
        "# Celdas vacías: 933 (415 con etiqueta \"Sin visita y sin finalización\")\n",
        "# Manejo:\n",
        "#   - Las 415 celdas con la etiqueta se mantendrán vacías.\n",
        "#   - Para las 530 celdas vacías que tienen fecha en fec_apartado,\n",
        "#     se imputará fec_asignacion con los valores de fec_apartado.\n"
      ],
      "metadata": {
        "id": "14AtQgS4JD_K"
      },
      "execution_count": null,
      "outputs": []
    },
    {
      "cell_type": "code",
      "source": [
        "#Si el tiempo de demora comienza a contar desde que el gestor aparta la cuenta, entonces debemos ajustar el análisis para que refleje ese criterio. Aquí está el plan actualizado:\n",
        "\n",
        "#Paso 1: Definir el Criterio de Demora\n",
        "#Establecer el umbral de 3 días: Las cuentas que excedan este plazo desde la fecha de apartado hasta la fecha de finalización se considerarán demoradas.\n",
        "#Paso 2: Calcular el Tiempo de Demora\n",
        "#Agregar una columna de demora al dataset:\n",
        "\n",
        "#Calcula la diferencia en días entre la fecha de apartado (fec_apartado) y la fecha de finalización (fec_finalizada)."
      ],
      "metadata": {
        "id": "kqWiVs9NvlNp"
      },
      "execution_count": null,
      "outputs": []
    },
    {
      "cell_type": "code",
      "source": [
        "#1 Verificar la Estructura del DataFrame: Primero, asegúrate de que la columna fec_finalizada ajustada esté en el formato de fecha correcto. Si es un objeto datetime64[ns], puedes proceder.\n",
        "print(df['fec_finalizada ajustada'].dtypes)\n"
      ],
      "metadata": {
        "colab": {
          "base_uri": "https://localhost:8080/"
        },
        "id": "uGefkedXxCXu",
        "outputId": "63bdf13b-c561-4d26-ef99-a59a9ab8ea6b"
      },
      "execution_count": null,
      "outputs": [
        {
          "output_type": "stream",
          "name": "stdout",
          "text": [
            "datetime64[ns]\n"
          ]
        }
      ]
    },
    {
      "cell_type": "code",
      "source": [
        "#2 Calcular la Demora: Utiliza la columna ajustada para calcular la nueva columna de demora:\n",
        "df['demora'] = (df['fec_finalizada ajustada'] - df['fec_apartado']).dt.total_seconds() / 3600  # en horas\n"
      ],
      "metadata": {
        "id": "1kbBfDh1xEq9"
      },
      "execution_count": null,
      "outputs": []
    },
    {
      "cell_type": "code",
      "source": [
        "#Estadísticas Descriptivas:\n",
        "print(\"\\nEstadísticas de demora:\")\n",
        "print(df['demora'].describe())\n"
      ],
      "metadata": {
        "colab": {
          "base_uri": "https://localhost:8080/"
        },
        "id": "wSaUJ4nPxLDf",
        "outputId": "d58651e5-3ff4-403a-c1b8-9a17e55896dc"
      },
      "execution_count": null,
      "outputs": [
        {
          "output_type": "stream",
          "name": "stdout",
          "text": [
            "\n",
            "Estadísticas de demora:\n",
            "count    1036.000000\n",
            "mean       31.541475\n",
            "std        21.315467\n",
            "min         0.010556\n",
            "25%        11.168264\n",
            "50%        31.107361\n",
            "75%        54.396944\n",
            "max        71.823889\n",
            "Name: demora, dtype: float64\n"
          ]
        }
      ]
    },
    {
      "cell_type": "code",
      "source": [
        "##Explicación:\n",
        "#Count: 1036 cuentas tienen datos válidos. Esto indica que estamos analizando 1036 cuentas donde se registró la demora correctamente.\n",
        "\n",
        "#Mean: 31.54 horas es el tiempo promedio de demora. En promedio, las cuentas tardan poco más de un día y medio en ser finalizadas después de ser apartadas por los gestores.\n",
        "\n",
        "#Std: 21.32 horas es la desviación estándar. Esto nos dice que los tiempos de demora varían bastante entre las cuentas. Algunas se resuelven muy rápido, mientras que otras toman mucho más tiempo.\n",
        "\n",
        "#Min: 0.01 horas es la demora mínima. Hay cuentas que fueron finalizadas casi inmediatamente después de haber sido apartadas.\n",
        "\n",
        "#25% (Primer cuartil): 11.17 horas. El 25% de las cuentas más rápidas tardaron menos de 11.17 horas en ser finalizadas.\n",
        "\n",
        "#50% (Mediana): 31.11 horas. La mitad de las cuentas se finalizaron en menos de 31.11 horas, lo que está cerca del promedio.\n",
        "\n",
        "#75% (Tercer cuartil): 54.40 horas. El 75% de las cuentas tardan menos de 54.40 horas en ser finalizadas, pero el 25% restante toma más tiempo.\n",
        "\n",
        "#Max: 71.82 horas es el tiempo máximo de demora. Algunas cuentas pueden tardar hasta tres días en ser finalizadas.\n"
      ],
      "metadata": {
        "id": "nXnbA3ohyV7R"
      },
      "execution_count": null,
      "outputs": []
    },
    {
      "cell_type": "code",
      "source": [
        "## Identificación de Cuentas con Mayor Demora:\n",
        "#Puedes investigar las cuentas que tardaron más (por ejemplo, las que tienen demoras superiores a la media) para entender por qué se están demorando. Esto podría incluir revisiones de su estado, gestor asignado, o cualquier otra variable relevante.\n",
        "cuentas_largas_demoras = df[df['demora'] > df['demora'].mean()]\n",
        "print(\"Cuentas con demoras mayores a la media:\")\n",
        "print(cuentas_largas_demoras[['fec_apartado', 'fec_finalizada ajustada', 'demora']])"
      ],
      "metadata": {
        "colab": {
          "base_uri": "https://localhost:8080/"
        },
        "id": "VdbnWkKxzRE3",
        "outputId": "a03ae9db-7023-4751-8bd6-aee91ec9bea5"
      },
      "execution_count": null,
      "outputs": [
        {
          "output_type": "stream",
          "name": "stdout",
          "text": [
            "Cuentas con demoras mayores a la media:\n",
            "            fec_apartado fec_finalizada ajustada     demora\n",
            "531  2023-07-07 16:22:21              2023-07-09  31.627500\n",
            "532  2024-05-30 16:19:19              2024-06-01  31.678056\n",
            "533  2023-08-11 16:16:55              2023-08-13  31.718056\n",
            "534  2024-07-22 16:05:13              2024-07-24  31.913056\n",
            "535  2024-02-13 16:03:33              2024-02-15  31.940833\n",
            "...                  ...                     ...        ...\n",
            "1031 2024-01-18 00:51:51              2024-01-21  71.135833\n",
            "1032 2023-07-14 00:27:43              2023-07-17  71.538056\n",
            "1033 2023-07-14 00:27:17              2023-07-17  71.545278\n",
            "1034 2024-05-14 00:17:07              2024-05-17  71.714722\n",
            "1035 2023-03-15 00:10:34              2023-03-18  71.823889\n",
            "\n",
            "[505 rows x 3 columns]\n"
          ]
        }
      ]
    },
    {
      "cell_type": "code",
      "source": [
        "## Análisis por Gestor: Puedes segmentar la información por gestor para identificar si algunos gestores tienen un rendimiento mejor o peor en cuanto a la gestión del tiempo:\n",
        "# Agrupa las cuentas demoradas por el id del agente (gestor)\n",
        "demoras_por_gestor = cuentas_largas_demoras.groupby('id_agente')['demora'].mean().sort_values(ascending=False)\n",
        "print(\"Tiempos de demora por gestor:\")\n",
        "print(demoras_por_gestor)\n"
      ],
      "metadata": {
        "colab": {
          "base_uri": "https://localhost:8080/"
        },
        "id": "80eRi-nYzeMX",
        "outputId": "6e9ba0c0-14a4-48d7-cb74-94de91522fce"
      },
      "execution_count": null,
      "outputs": [
        {
          "output_type": "stream",
          "name": "stdout",
          "text": [
            "Tiempos de demora por gestor:\n",
            "id_agente\n",
            "9078    63.716111\n",
            "9923    62.421389\n",
            "8773    62.413611\n",
            "7377    61.642778\n",
            "9429    61.492778\n",
            "          ...    \n",
            "3725    35.026667\n",
            "9686    33.316667\n",
            "9718    33.151944\n",
            "5196    32.583056\n",
            "9590    32.273611\n",
            "Name: demora, Length: 87, dtype: float64\n"
          ]
        }
      ]
    },
    {
      "cell_type": "code",
      "source": [
        "## Identificación de Gestores con Mayor Demora:\n",
        "#Puedes enfocarte en los gestores con las mayores demoras y analizar las causas posibles (¿falta de visitas? ¿problemas en ciertas regiones?).\n",
        "# Gestores con mayores demoras (mayores a la media)\n",
        "gestores_mayores_demoras = cuentas_largas_demoras.groupby('id_agente')['demora'].mean().sort_values(ascending=False)\n",
        "print(\"Gestores con mayores tiempos de demora:\")\n",
        "print(gestores_mayores_demoras.head(10))  # Ver los 10 gestores con más demora\n"
      ],
      "metadata": {
        "colab": {
          "base_uri": "https://localhost:8080/"
        },
        "id": "-41TeWAL1QTN",
        "outputId": "7bfe5b3f-e781-4b6c-d3db-06bc9214892a"
      },
      "execution_count": null,
      "outputs": [
        {
          "output_type": "stream",
          "name": "stdout",
          "text": [
            "Gestores con mayores tiempos de demora:\n",
            "id_agente\n",
            "9078    63.716111\n",
            "9923    62.421389\n",
            "8773    62.413611\n",
            "7377    61.642778\n",
            "9429    61.492778\n",
            "9451    61.305833\n",
            "6774    61.180611\n",
            "3805    61.132778\n",
            "7486    61.060139\n",
            "1908    60.610556\n",
            "Name: demora, dtype: float64\n"
          ]
        }
      ]
    },
    {
      "cell_type": "code",
      "source": [
        "# Agrupar los datos por 'id_agente' para obtener el volumen de cuentas y la demora promedio\n",
        "summary = df.groupby('id_agente').agg(\n",
        "    volumen=('id_externo_cliente', 'size'),  # Número de cuentas\n",
        "    mean_demora=('demora', 'mean')           # Demora promedio\n",
        ").reset_index()\n",
        "\n",
        "# Verifica el resumen\n",
        "print(summary)\n"
      ],
      "metadata": {
        "colab": {
          "base_uri": "https://localhost:8080/"
        },
        "id": "4dEkDJL5SxC0",
        "outputId": "da597672-4316-4863-d31f-c34824772cb4"
      },
      "execution_count": null,
      "outputs": [
        {
          "output_type": "stream",
          "name": "stdout",
          "text": [
            "     id_agente  volumen  mean_demora\n",
            "0         1379       56    35.426027\n",
            "1         1577        4    35.284722\n",
            "2         1616       38    28.362844\n",
            "3         1643        8    28.191319\n",
            "4         1859        2    22.416806\n",
            "..         ...      ...          ...\n",
            "99        9820        6    41.107685\n",
            "100       9865        3    34.340370\n",
            "101       9923        1    62.421389\n",
            "102       9955        5    17.463667\n",
            "103       9985        1    13.753333\n",
            "\n",
            "[104 rows x 3 columns]\n"
          ]
        }
      ]
    },
    {
      "cell_type": "code",
      "source": [
        "plt.figure(figsize=(10, 6))\n",
        "plt.scatter(summary['volumen'], summary['mean_demora'], alpha=0.7)\n",
        "plt.title('Demora Promedio vs. Volumen de Cuentas por Agente')\n",
        "plt.xlabel('Volumen de Cuentas')\n",
        "plt.ylabel('Demora Promedio (horas)')\n",
        "plt.grid()\n",
        "plt.show()\n"
      ],
      "metadata": {
        "colab": {
          "base_uri": "https://localhost:8080/",
          "height": 564
        },
        "id": "KCTFspyzZTDi",
        "outputId": "ce931fa8-7329-476e-f66d-8e607e6ce69f"
      },
      "execution_count": null,
      "outputs": [
        {
          "output_type": "display_data",
          "data": {
            "text/plain": [
              "<Figure size 1000x600 with 1 Axes>"
            ],
            "image/png": "[encoded data removed]"
          },
          "metadata": {}
        }
      ]
    },
    {
      "cell_type": "code",
      "source": [
        "# Obtener los 10 gestores con mayores demoras\n",
        "gestores_mayores_demoras = demoras_por_gestor.head(10)\n",
        "\n",
        "# Crear el gráfico de barras para los 10 gestores con mayores demoras\n",
        "plt.figure(figsize=(12, 6))\n",
        "plt.bar(gestores_mayores_demoras.index.astype(str), gestores_mayores_demoras.values, color='salmon')\n",
        "plt.title('Top 10 Gestores con Mayores Demoras')\n",
        "plt.xlabel('ID del Gestor')\n",
        "plt.ylabel('Demora Promedio (horas)')\n",
        "plt.xticks(rotation=45)\n",
        "plt.grid(axis='y')\n",
        "plt.tight_layout()\n",
        "plt.show()"
      ],
      "metadata": {
        "colab": {
          "base_uri": "https://localhost:8080/",
          "height": 591
        },
        "id": "csdVQCooNEFU",
        "outputId": "66e3b6a5-b33c-4320-c386-d607d4387dcd"
      },
      "execution_count": null,
      "outputs": [
        {
          "output_type": "display_data",
          "data": {
            "text/plain": [
              "<Figure size 1200x600 with 1 Axes>"
            ],
            "image/png": "[encoded data removed]"
          },
          "metadata": {}
        }
      ]
    },
    {
      "cell_type": "code",
      "source": [
        "##Obtener la Cantidad de Cuentas Asignadas por Gestor: Puedes filtrar el DataFrame para contar cuántas cuentas están asignadas a cada uno de estos gestores.\n",
        "# Lista de gestores con alta demora\n",
        "gestores_alta_demora = [9078, 9923, 8773, 7377, 9429, 9451, 6774, 3805, 7486, 1908]\n",
        "\n",
        "# Filtrar las cuentas asignadas a estos gestores\n",
        "cuentas_gestores_alta_demora = df[df['id_agente'].isin(gestores_alta_demora)]\n",
        "\n",
        "# Contar la cantidad de cuentas asignadas por gestor\n",
        "cuentas_por_gestor = cuentas_gestores_alta_demora['id_agente'].value_counts()\n",
        "print(cuentas_por_gestor)\n"
      ],
      "metadata": {
        "colab": {
          "base_uri": "https://localhost:8080/"
        },
        "id": "cJRRr12_6ibA",
        "outputId": "179d827a-2c13-4e6c-83c9-0388392f47ac"
      },
      "execution_count": null,
      "outputs": [
        {
          "output_type": "stream",
          "name": "stdout",
          "text": [
            "id_agente\n",
            "6774    15\n",
            "7486     8\n",
            "9078     5\n",
            "9451     3\n",
            "1908     1\n",
            "3805     1\n",
            "9429     1\n",
            "7377     1\n",
            "8773     1\n",
            "9923     1\n",
            "Name: count, dtype: int64\n"
          ]
        }
      ]
    },
    {
      "cell_type": "code",
      "source": [
        "##Análisis de Resultados\n",
        "#Distribución de Cuentas:\n",
        "\n",
        "#Gestor 6774 tiene la mayor cantidad de cuentas (15). Esto puede indicar que está manejando una carga de trabajo significativa, lo que podría contribuir a sus altos tiempos de demora.\n",
        "#Gestores como 7486 y 9078 también tienen un número razonable de cuentas (8 y 5 respectivamente), lo que sugiere que pueden estar en una situación similar.\n",
        "#Los demás gestores (9451, 1908, 3805, 9429, 7377, 8773 y 9923) tienen una o muy pocas cuentas asignadas, lo que puede indicar que su carga de trabajo es menor.\n",
        "\n",
        "#Estrategias Potenciales:\n",
        "\n",
        "#Reasignación de Cuentas: Considerar la posibilidad de redistribuir algunas cuentas de los gestores más ocupados a aquellos con menos cuentas asignadas.\n",
        "#Capacitación y Soporte: Proporcionar capacitación adicional o apoyo a los gestores con mayor carga de trabajo para ayudarlos a gestionar mejor su tiempo y recursos.\n",
        "#Monitoreo y Evaluación: Establecer un sistema de monitoreo para evaluar la carga de trabajo y el desempeño de cada gestor, lo que permitirá identificar rápidamente a aquellos que puedan necesitar apoyo."
      ],
      "metadata": {
        "id": "PFRLFoaC7iv9"
      },
      "execution_count": null,
      "outputs": []
    },
    {
      "cell_type": "code",
      "source": [
        "## Obtener la Distribución por Estado: También es importante ver en qué estados están asignadas las cuentas de cada gestor. Puedes hacerlo de la siguiente manera:\n",
        "# Agrupar por estado y gestor\n",
        "estados_por_gestor = cuentas_gestores_alta_demora.groupby(['id_agente', 'id_estado']).size().unstack(fill_value=0)\n",
        "print(estados_por_gestor)\n"
      ],
      "metadata": {
        "colab": {
          "base_uri": "https://localhost:8080/"
        },
        "id": "iHQxx-sI6sLx",
        "outputId": "c5c54e73-2c46-403a-f185-b66ca500db80"
      },
      "execution_count": null,
      "outputs": [
        {
          "output_type": "stream",
          "name": "stdout",
          "text": [
            "id_estado  10  11  14  19  21  25  26  30\n",
            "id_agente                                \n",
            "1908        0   0   0   0   0   0   0   1\n",
            "3805        0   0   0   0   0   1   0   0\n",
            "6774        0   0   0   0  15   0   0   0\n",
            "7377        0   0   0   0   1   0   0   0\n",
            "7486        0   0   8   0   0   0   0   0\n",
            "8773        0   0   0   1   0   0   0   0\n",
            "9078        0   5   0   0   0   0   0   0\n",
            "9429        0   0   0   1   0   0   0   0\n",
            "9451        0   0   0   0   0   0   3   0\n",
            "9923        1   0   0   0   0   0   0   0\n"
          ]
        }
      ]
    },
    {
      "cell_type": "code",
      "source": [
        "##2. Posibles Causas de las Demoras:\n",
        "#(a) Falta de visitas: Es posible que los gestores con mayores demoras no estén realizando suficientes visitas, lo que podría estar retrasando la finalización de las cuentas. Podemos revisar si hay una correlación entre el número de visitas realizadas y los tiempos de demora.\n",
        "# Verificar la cantidad de visitas por gestor con cuentas demoradas\n",
        "visitas_por_gestor = cuentas_largas_demoras.groupby('id_agente')['id_visita'].count().sort_values(ascending=False)\n",
        "print(\"Cantidad de visitas por gestor con cuentas demoradas:\")\n",
        "print(visitas_por_gestor.head(10))  # Los 10 gestores con más o menos visitas\n"
      ],
      "metadata": {
        "colab": {
          "base_uri": "https://localhost:8080/"
        },
        "id": "ZyxsGIH21cNH",
        "outputId": "7047397c-57f1-41ee-c38b-cb63db95df62"
      },
      "execution_count": null,
      "outputs": [
        {
          "output_type": "stream",
          "name": "stdout",
          "text": [
            "Cantidad de visitas por gestor con cuentas demoradas:\n",
            "id_agente\n",
            "3020    41\n",
            "7990    34\n",
            "4451    32\n",
            "1379    31\n",
            "4963    28\n",
            "7635    23\n",
            "5038    21\n",
            "3755    19\n",
            "1616    16\n",
            "6387    15\n",
            "Name: id_visita, dtype: int64\n"
          ]
        }
      ]
    },
    {
      "cell_type": "code",
      "source": [
        "#Interpretación:\n",
        "#Gestores con muchas visitas y aún así demoras: Por ejemplo, el gestor con ID 3020 tiene 41 visitas, lo que sugiere que no es la falta de visitas lo que está causando el retraso. Aquí deberíamos explorar otras posibles causas, como problemas regionales, la complejidad de las cuentas o la falta de recursos.\n",
        "\n",
        "#Gestores con pocas visitas y altas demoras: Los gestores que tienen menos visitas asignadas, como 5038 o 3755, podrían estar enfrentando dificultades operativas, como logística de las visitas, o quizás no están siendo asignados suficientes casos para optimizar su flujo de trabajo.\n",
        "\n",
        "#Hipótesis derivadas:\n",
        "#Falta de visitas como posible causa de demora: Gestores con pocas visitas podrían estar teniendo problemas para completar cuentas en tiempo, lo que sugiere que incrementar el número de visitas podría mejorar su eficiencia.\n",
        "\n",
        "#Volumen de cuentas asignadas: Es importante investigar si los gestores con más demoras están recibiendo un volumen muy alto de cuentas que no pueden gestionar en el tiempo estipulado."
      ],
      "metadata": {
        "id": "ZtOWb5Yu2Uih"
      },
      "execution_count": null,
      "outputs": []
    },
    {
      "cell_type": "code",
      "source": [
        "# Verificar las demoras promedio por estado\n",
        "demoras_por_estado = cuentas_largas_demoras.groupby('id_estado')['demora'].mean().sort_values(ascending=False)\n",
        "print(\"Demoras promedio por estado:\")\n",
        "print(demoras_por_estado.head(10))  # Ver los estados con mayores demoras\n"
      ],
      "metadata": {
        "colab": {
          "base_uri": "https://localhost:8080/"
        },
        "id": "M4x5KQKs1pS-",
        "outputId": "b71ff2bc-edeb-4703-b34c-2547bb4b7e5f"
      },
      "execution_count": null,
      "outputs": [
        {
          "output_type": "stream",
          "name": "stdout",
          "text": [
            "Demoras promedio por estado:\n",
            "id_estado\n",
            "26    61.305833\n",
            "28    59.367986\n",
            "16    58.921528\n",
            "2     55.952693\n",
            "21    55.119379\n",
            "24    54.246889\n",
            "19    53.878014\n",
            "22    53.870321\n",
            "11    53.537222\n",
            "31    52.728194\n",
            "Name: demora, dtype: float64\n"
          ]
        }
      ]
    },
    {
      "cell_type": "code",
      "source": [
        "#Interpretación:\n",
        "#Estados con mayores demoras: Los estados con mayores demoras, como los que tienen IDs 26, 28, y 16, presentan tiempos de demora superiores a 58 horas, lo que sugiere que en estas regiones podría haber factores específicos que dificulten la finalización de las cuentas, como:\n",
        "#Distancias geográficas: Si los gestores tienen que cubrir grandes áreas, puede ser difícil completar las visitas a tiempo.\n",
        "#Condiciones locales: Problemas de infraestructura, tráfico o logística pueden estar afectando el desempeño.\n",
        "#Estados con demoras moderadas: Los estados como 11 y 31, que tienen demoras cercanas a 52 horas, podrían estar más alineados con el promedio general, aunque siguen siendo más lentos en comparación con otros estados.\n",
        "#Hipótesis a validar:\n",
        "#Problemas regionales: Los estados con mayores demoras podrían tener condiciones externas que impactan la eficiencia, como la geografía o las políticas locales.\n",
        "\n",
        "#Distribución inadecuada de recursos: Es posible que los gestores en estos estados estén sobrecargados o que no se estén asignando suficientes recursos para completar las cuentas en tiempo."
      ],
      "metadata": {
        "id": "plC8XuuH2eFE"
      },
      "execution_count": null,
      "outputs": []
    },
    {
      "cell_type": "code",
      "source": [
        "#Próximos pasos:\n",
        "#Comparar demoras con el volumen de cuentas por estado: Vamos a ver si estos estados con mayores demoras también tienen un alto volumen de cuentas, lo que podría ser un factor contribuyente."
      ],
      "metadata": {
        "id": "AL-e8HxM2zzF"
      },
      "execution_count": null,
      "outputs": []
    },
    {
      "cell_type": "code",
      "source": [
        "# Volumen de cuentas por estado\n",
        "volumen_cuentas_por_estado = df.groupby('id_estado')['id_cuenta'].count().sort_values(ascending=False)\n",
        "print(\"Volumen de cuentas asignadas por estado:\")\n",
        "print(volumen_cuentas_por_estado.head(10))  # Estados con más cuentas asignadas\n"
      ],
      "metadata": {
        "colab": {
          "base_uri": "https://localhost:8080/"
        },
        "id": "38ZwzBZp20_h",
        "outputId": "f87315ed-9646-4854-fdea-73abad5eda6b"
      },
      "execution_count": null,
      "outputs": [
        {
          "output_type": "stream",
          "name": "stdout",
          "text": [
            "Volumen de cuentas asignadas por estado:\n",
            "id_estado\n",
            "9     288\n",
            "14    164\n",
            "15    150\n",
            "19     74\n",
            "22     70\n",
            "21     37\n",
            "2      36\n",
            "11     29\n",
            "23     23\n",
            "30     23\n",
            "Name: id_cuenta, dtype: int64\n"
          ]
        }
      ]
    },
    {
      "cell_type": "code",
      "source": [
        "##Análisis del Volumen de Cuentas por Estado\n",
        "#Aquí tienes el análisis de los volúmenes de cuentas asignadas por estado, que se puede correlacionar con las demoras observadas previamente:\n",
        "\n",
        "#Volumen de Cuentas Asignadas por Estado:\n",
        "#Estado ID 9: 288 cuentas asignadas\n",
        "#Estado ID 14: 164 cuentas asignadas\n",
        "#Estado ID 15: 150 cuentas asignadas\n",
        "#Estado ID 19: 74 cuentas asignadas\n",
        "#Estado ID 22: 70 cuentas asignadas\n",
        "#Estado ID 21: 37 cuentas asignadas\n",
        "#Estado ID 2: 36 cuentas asignadas\n",
        "#Estado ID 11: 29 cuentas asignadas\n",
        "#Estado ID 23: 23 cuentas asignadas\n",
        "#Estado ID 30: 23 cuentas asignadas\n",
        "#Correlación entre Demoras y Volumen de Cuentas\n",
        "#Altas Demoras vs. Alto Volumen:\n",
        "\n",
        "#Si observamos que un estado con un alto volumen de cuentas, como el Estado ID 9, tiene también demoras significativas, esto puede indicar que los gestores están sobrecargados.\n",
        "#Es crucial determinar si los gestores en estos estados están logrando atender adecuadamente el volumen de cuentas asignadas. Por ejemplo, si el Estado ID 9 tiene una demora promedio de más de 60 horas, podría significar que hay una falta de recursos o personal.\n",
        "#Estados con Bajos Volúmenes y Altas Demoras:\n",
        "\n",
        "#Si un estado con un bajo volumen de cuentas, como el Estado ID 11 o Estado ID 30, muestra demoras superiores a lo normal, podríamos investigar si existen problemas particulares en esas regiones que estén afectando la atención.\n",
        "#Hipótesis a Validar:\n",
        "#Sobrecarga de Trabajo: Los gestores en los estados con alto volumen de cuentas y altas demoras podrían estar lidiando con una carga de trabajo demasiado alta.\n",
        "#Condiciones Locales: En estados con un bajo volumen de cuentas y altas demoras, puede que existan condiciones externas que impacten negativamente el rendimiento.\n",
        "#Siguiente Paso:\n",
        "#Te recomendaría hacer un análisis comparativo entre las demoras promedio y el volumen de cuentas por estado. Esto podría hacerse de la siguiente manera:"
      ],
      "metadata": {
        "id": "3SZuuhKI3r33"
      },
      "execution_count": null,
      "outputs": []
    },
    {
      "cell_type": "code",
      "source": [
        "# Crear un dataframe con demoras promedio y volumen de cuentas\n",
        "demoras_por_estado = df.groupby('id_estado')['demora'].mean()\n",
        "volumen_cuentas_por_estado = df.groupby('id_estado')['id_cuenta'].count()\n",
        "\n",
        "# Combinar en un solo DataFrame\n",
        "estado_analisis = pd.DataFrame({\n",
        "    'demora_promedio': demoras_por_estado,\n",
        "    'volumen_cuentas': volumen_cuentas_por_estado\n",
        "}).sort_values(by='demora_promedio', ascending=False)\n",
        "\n",
        "print(estado_analisis)\n"
      ],
      "metadata": {
        "colab": {
          "base_uri": "https://localhost:8080/"
        },
        "id": "4ekO90-t337A",
        "outputId": "18c9a7cb-a2da-4287-b17e-8e80f69dba86"
      },
      "execution_count": null,
      "outputs": [
        {
          "output_type": "stream",
          "name": "stdout",
          "text": [
            "           demora_promedio  volumen_cuentas\n",
            "id_estado                                  \n",
            "18               50.116111                3\n",
            "29               47.631667                1\n",
            "16               42.196019                3\n",
            "2                41.050100               36\n",
            "8                39.952753               11\n",
            "12               37.468056                1\n",
            "24               37.009917               10\n",
            "22               36.825913               70\n",
            "1                36.558889               14\n",
            "11               36.265910               29\n",
            "19               34.959899               74\n",
            "28               33.654861                8\n",
            "9                33.179767              288\n",
            "21               32.342072               37\n",
            "15               31.381656              150\n",
            "31               29.418359               11\n",
            "14               27.889329              164\n",
            "23               27.321727               23\n",
            "30               25.789734               23\n",
            "5                24.250309                9\n",
            "10               23.547659                7\n",
            "13               22.986833                5\n",
            "32               20.805694                2\n",
            "25               19.947990               17\n",
            "20               18.187917                4\n",
            "26               15.333160                8\n",
            "27               14.623535               11\n",
            "17               13.360796               15\n",
            "6                10.254167                1\n",
            "7                 5.544722                1\n"
          ]
        }
      ]
    },
    {
      "cell_type": "code",
      "source": [
        "##Observaciones\n",
        "#Altas Demoras con Pocos Cuentas:\n",
        "\n",
        "#Los estados 18, 29 y 16 presentan demoras promedio altas (más de 42 horas) pero tienen un volumen de cuentas muy bajo (entre 1 y 3 cuentas). Esto puede indicar problemas específicos en estos estados que necesitan atención, a pesar de que el volumen de cuentas es bajo.\n",
        "#Altas Demoras con Alto Volumen:\n",
        "\n",
        "#El Estado ID 9 tiene el volumen más alto de cuentas (288) pero una demora promedio relativamente baja (33.18 horas). Esto sugiere que, a pesar de la gran cantidad de cuentas, el rendimiento es aceptable, aunque aún se podría mejorar.\n",
        "#Problemas Potenciales:\n",
        "\n",
        "#El Estado ID 2 tiene un volumen significativo (36 cuentas) y una demora promedio de 41.05 horas. Este estado podría estar experimentando dificultades que merecen ser investigadas para optimizar los tiempos de respuesta.\n",
        "#El Estado ID 19, aunque tiene un volumen considerable (74 cuentas), presenta una demora de 34.96 horas, lo que podría indicar que se debe revisar la eficiencia en la atención."
      ],
      "metadata": {
        "id": "uILpRZr34r9L"
      },
      "execution_count": null,
      "outputs": []
    },
    {
      "cell_type": "code",
      "source": [],
      "metadata": {
        "colab": {
          "base_uri": "https://localhost:8080/"
        },
        "id": "KrCxVahPMrrt",
        "outputId": "8e68150d-7f9d-4945-a7dc-113b84df8784"
      },
      "execution_count": null,
      "outputs": [
        {
          "output_type": "stream",
          "name": "stdout",
          "text": [
            "       fec_activacion id_externo_cliente  id_cuenta  id_cliente  \\\n",
            "0 2024-04-26 21:58:43              61858          1           6   \n",
            "1 2024-03-11 16:25:30              45091          1           6   \n",
            "2 2023-02-24 12:07:05              33846          1           6   \n",
            "3 2024-01-17 15:49:23              53345          1           6   \n",
            "4 2023-10-17 12:00:56              54816          1           6   \n",
            "\n",
            "   id_acreditado  id_acreditado_cuenta_domicilio  id_estado  id_municipio  \\\n",
            "0           4809                               1         21          1591   \n",
            "1           4338                               3          2            15   \n",
            "2           3917                               1         11           331   \n",
            "3           4534                               1         14           574   \n",
            "4           4410                               1         14           655   \n",
            "\n",
            "       fec_asignacion        fec_apartado  id_agente_apartado  id_agente  \\\n",
            "0 2024-04-29 22:20:28 2024-04-29 22:31:45                6774       6774   \n",
            "1 2024-05-21 19:24:29 2024-05-21 20:57:58                5038       5038   \n",
            "2 2023-02-24 19:12:07 2023-02-24 19:19:24                9078       9078   \n",
            "3 2024-01-22 08:23:09 2024-01-22 19:13:02                7189       7189   \n",
            "4 2023-10-17 18:00:41 2023-10-17 18:00:41                3755       3755   \n",
            "\n",
            "   id_visita fec_finalizada fec_finalizada ajustada  nuevo_id    demora  \n",
            "0         53     2024-04-29     2024-04-29 23:00:00         1  0.470833  \n",
            "1        199     2024-05-21     2024-05-21 23:00:00         2  2.033889  \n",
            "2          3     2023-02-24     2023-02-24 23:00:00         3  3.676667  \n",
            "3         82     2024-01-22     2024-01-22 23:00:00         4  3.782778  \n",
            "4        125     2023-10-17     2023-10-17 23:00:00         5  4.988611  \n"
          ]
        }
      ]
    }
  ]
}