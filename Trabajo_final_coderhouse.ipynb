{
  "nbformat": 4,
  "nbformat_minor": 0,
  "metadata": {
    "colab": {
      "provenance": [],
      "authorship_tag": "ABX9TyMvOEiprqNv27XrVrgDBvce",
      "include_colab_link": true
    },
    "kernelspec": {
      "name": "python3",
      "display_name": "Python 3"
    },
    "language_info": {
      "name": "python"
    }
  },
  "cells": [
    {
      "cell_type": "markdown",
      "metadata": {
        "id": "view-in-github",
        "colab_type": "text"
      },
      "source": [
        "<a href=\"https://colab.research.google.com/github/Dealer2112/trabajofinal2/blob/main/Trabajo_final_coderhouse.ipynb\" target=\"_parent\"><img src=\"https://colab.research.google.com/assets/colab-badge.svg\" alt=\"Open In Colab\"/></a>"
      ]
    },
    {
      "cell_type": "code",
      "execution_count": 1,
      "metadata": {
        "id": "-V79qYj6de8i"
      },
      "outputs": [],
      "source": [
        "import pandas as pd\n",
        "import matplotlib.pyplot as plt\n",
        "import seaborn as sns\n",
        "\n",
        "# Cargar el dataset de Excel\n",
        "df = pd.read_excel('/content/Trabajo final coder.xlsx')\n"
      ]
    },
    {
      "cell_type": "code",
      "source": [
        "# 1. Abstracto con Motivación y Audiencia\n",
        "\n",
        "## Motivación\n",
        "#Optimizar el flujo de trabajo en la gestión de cuentas es crucial para mejorar la eficiencia y reducir los tiempos de ciclo. Utilizando un dataset que incluye información sobre tiempos de ciclo, reasignaciones y participación de agentes, se busca identificar patrones y factores que afectan el flujo de trabajo para implementar mejoras efectivas.\n",
        "\n",
        "## Objetivo\n",
        "#Aplicar técnicas de Machine Learning para analizar y mejorar el flujo de trabajo en la gestión de cuentas, enfocándose en los tiempos de ciclo, la frecuencia de reasignaciones y la participación de agentes. El objetivo es optimizar los procesos para aumentar la eficiencia y eficacia en la gestión de cuentas.\n",
        "\n",
        "## Posibles Problemas Identificados\n",
        "# Sobrecarga de Trabajo: ¿Los gestores con alto volumen de cuentas están experimentando demoras significativas debido a su carga de trabajo?\n",
        "# Condiciones Locales: ¿Existen problemas específicos en regiones con pocas cuentas asignadas pero altas demoras?"
      ],
      "metadata": {
        "id": "ISGed8C50wJ8"
      },
      "execution_count": null,
      "outputs": []
    },
    {
      "cell_type": "code",
      "source": [
        "#2. Resumen de Análisis del DataFrame\n",
        "#2.1 Resumen de información del DataFrame\n",
        "df.info()"
      ],
      "metadata": {
        "id": "BIfeu5KVdAPy",
        "colab": {
          "base_uri": "https://localhost:8080/"
        },
        "outputId": "e309e42d-5580-47d4-bf80-164662f3eaca"
      },
      "execution_count": 2,
      "outputs": [
        {
          "output_type": "stream",
          "name": "stdout",
          "text": [
            "<class 'pandas.core.frame.DataFrame'>\n",
            "RangeIndex: 1036 entries, 0 to 1035\n",
            "Data columns (total 15 columns):\n",
            " #   Column                          Non-Null Count  Dtype         \n",
            "---  ------                          --------------  -----         \n",
            " 0   fec_activacion                  1036 non-null   datetime64[ns]\n",
            " 1   id_externo_cliente              1036 non-null   object        \n",
            " 2   id_cuenta                       1036 non-null   int64         \n",
            " 3   id_cliente                      1036 non-null   int64         \n",
            " 4   id_acreditado                   1036 non-null   int64         \n",
            " 5   id_acreditado_cuenta_domicilio  1036 non-null   int64         \n",
            " 6   id_estado                       1036 non-null   int64         \n",
            " 7   id_municipio                    1036 non-null   int64         \n",
            " 8   fec_asignacion                  1036 non-null   datetime64[ns]\n",
            " 9   fec_apartado                    1036 non-null   datetime64[ns]\n",
            " 10  id_agente_apartado              1036 non-null   int64         \n",
            " 11  id_agente                       1036 non-null   int64         \n",
            " 12  id_visita                       1036 non-null   int64         \n",
            " 13  fec_finalizada                  1036 non-null   datetime64[ns]\n",
            " 14  fec_finalizada ajustada         1036 non-null   datetime64[ns]\n",
            "dtypes: datetime64[ns](5), int64(9), object(1)\n",
            "memory usage: 121.5+ KB\n"
          ]
        }
      ]
    },
    {
      "cell_type": "code",
      "source": [
        "#2.2 Dimensiones del DataFrame\n",
        "df.shape"
      ],
      "metadata": {
        "id": "zZSgL6bfdbe7",
        "colab": {
          "base_uri": "https://localhost:8080/"
        },
        "outputId": "ca7940fd-cd8a-474e-efe5-d996d992cdf5"
      },
      "execution_count": 3,
      "outputs": [
        {
          "output_type": "execute_result",
          "data": {
            "text/plain": [
              "(1036, 15)"
            ]
          },
          "metadata": {},
          "execution_count": 3
        }
      ]
    },
    {
      "cell_type": "code",
      "source": [
        "#2.3 # Crear una nueva columna 'nuevo_id' que contenga un índice único para cada fila\n",
        "df['nuevo_id'] = range(1, len(df) + 1)\n",
        "\n",
        "# Verificar las primeras filas para asegurarnos de que se creó correctamente\n",
        "print(df[['nuevo_id', 'id_externo_cliente', 'fec_asignacion']].head(10))\n",
        "\n"
      ],
      "metadata": {
        "colab": {
          "base_uri": "https://localhost:8080/"
        },
        "id": "ECWVRuxMnesZ",
        "outputId": "3c1fdaa9-2f0e-417f-d5ff-96bec43f2e82"
      },
      "execution_count": 4,
      "outputs": [
        {
          "output_type": "stream",
          "name": "stdout",
          "text": [
            "   nuevo_id id_externo_cliente      fec_asignacion\n",
            "0         1              61858 2024-04-29 22:20:28\n",
            "1         2              45091 2024-05-21 19:24:29\n",
            "2         3              33846 2023-02-24 19:12:07\n",
            "3         4              53345 2024-01-22 08:23:09\n",
            "4         5              54816 2023-10-17 18:00:41\n",
            "5         6              43450 2023-04-26 15:21:52\n",
            "6         7              55101 2024-02-22 17:32:52\n",
            "7         8              54521 2023-04-18 17:30:10\n",
            "8         9              41252 2023-05-15 17:17:05\n",
            "9        10              41153 2023-04-21 14:45:09\n"
          ]
        }
      ]
    },
    {
      "cell_type": "code",
      "source": [
        "#2.4 Descripción de las variables en el conjunto de datos:\n",
        "# id_cuenta: Identificador único de la cuenta.\n",
        "# id_domicilio: Identificador único del domicilio.\n",
        "# fec_activacion: Momento en que la cuenta se carga en el sistema.\n",
        "# fec_asignacion: Momento en que la cuenta se asigna a un agente o recurso.\n",
        "# fec_apartado: Momento en que el agente aparta el domicilio para la visita.\n",
        "# fec_visita: Momento en que se realiza la visita.\n",
        "# id_externo_cliente: Identificador externo del cliente.\n",
        "# id_cliente: Identificador del cliente asociado a la cuenta.\n",
        "# id_acreditado: Identificador del acreditado.\n",
        "# id_acreditado_cuenta_domicilio: Identificador único que relaciona al acreditado, cuenta y domicilio.\n",
        "# id_estado: Identificador del estado (ubicación geográfica).\n",
        "# id_municipio: Identificador del municipio (ubicación geográfica).\n",
        "# id_agente_asignado: Identificador del agente asignado.\n",
        "# id_agente_apartado: Identificador del agente que aparta el domicilio para visita.\n",
        "# id_agente: Identificador del agente responsable de la visita.\n",
        "# id_visita: Identificador de la visita.\n",
        "# fec_finalizada: Fecha en que se finalizó la gestión de la cuenta.\n",
        "##Opiones de columnas.\n",
        "## fec_finalizada ajustada:Fecha en que se finalizó la gestión de la cuenta (se ajustaron datos).\n",
        "\n"
      ],
      "metadata": {
        "id": "RH4lIGmzejG_"
      },
      "execution_count": null,
      "outputs": []
    },
    {
      "cell_type": "code",
      "source": [
        "#2.5 Identificación de Celdas Vacías\n",
        "# Mostrar el número de valores nulos en cada columna\n",
        "print(\"Número de valores nulos por columna:\")\n",
        "print(df.isnull().sum())"
      ],
      "metadata": {
        "id": "M88Hy7O5cFn7",
        "colab": {
          "base_uri": "https://localhost:8080/"
        },
        "outputId": "d572f1ca-1d10-4c41-eaef-67e89a328b1e"
      },
      "execution_count": 5,
      "outputs": [
        {
          "output_type": "stream",
          "name": "stdout",
          "text": [
            "Número de valores nulos por columna:\n",
            "fec_activacion                    0\n",
            "id_externo_cliente                0\n",
            "id_cuenta                         0\n",
            "id_cliente                        0\n",
            "id_acreditado                     0\n",
            "id_acreditado_cuenta_domicilio    0\n",
            "id_estado                         0\n",
            "id_municipio                      0\n",
            "fec_asignacion                    0\n",
            "fec_apartado                      0\n",
            "id_agente_apartado                0\n",
            "id_agente                         0\n",
            "id_visita                         0\n",
            "fec_finalizada                    0\n",
            "fec_finalizada ajustada           0\n",
            "nuevo_id                          0\n",
            "dtype: int64\n"
          ]
        }
      ]
    },
    {
      "cell_type": "code",
      "source": [
        "# Resumen de manejo de celdas vacías en el dataset\n",
        "\n",
        "# 1. id_agente\n",
        "# Celdas vacías: 487\n",
        "# Manejo: Se asignó el valor \"Sin agente asignado\" a las celdas vacías donde\n",
        "#         id_visita tenía la etiqueta \"Sin visita y sin finalización\".\n",
        "\n",
        "# 2. id_agente_apartado\n",
        "# Celdas vacías: 453\n",
        "# Manejo: Se asignó el valor \"Sin agente apartado\" a las celdas vacías en\n",
        "#         cuentas que tenían etiquetas similares.\n",
        "\n",
        "# 3. fec_apartado\n",
        "# Celdas vacías: 487\n",
        "# Manejo: Se decidieron mantener las celdas vacías, ya que no hubo apartado ni asignación.\n",
        "\n",
        "# 4. fec_finalizada\n",
        "# Celdas vacías: 487\n",
        "# Manejo: Se mantendrán las celdas vacías, reflejando la ausencia de finalización\n",
        "#         en cuentas sin asignación ni visita.\n",
        "\n",
        "# 5. fec_asignacion\n",
        "# Celdas vacías: 933 (415 con etiqueta \"Sin visita y sin finalización\")\n",
        "# Manejo:\n",
        "#   - Las 415 celdas con la etiqueta se mantendrán vacías.\n",
        "#   - Para las 530 celdas vacías que tienen fecha en fec_apartado,\n",
        "#     se imputará fec_asignacion con los valores de fec_apartado.\n"
      ],
      "metadata": {
        "id": "14AtQgS4JD_K"
      },
      "execution_count": null,
      "outputs": []
    },
    {
      "cell_type": "code",
      "source": [
        "#3. Análisis de Razones de Demora en las Cuentas\n",
        "\n",
        "#Si el tiempo de demora comienza a contar desde que el gestor aparta la cuenta, entonces debemos ajustar el análisis para que refleje ese criterio. Aquí está el plan actualizado:\n",
        "\n",
        "#Paso 1: Definir el Criterio de Demora\n",
        "#Establecer el umbral de 3 días: Las cuentas que excedan este plazo desde la fecha de apartado hasta la fecha de finalización se considerarán demoradas.\n",
        "#Paso 2: Verificar la Estructura del DataFrame.\n",
        "#Paso 3 Calcular la Demora.\n",
        "#Paso 4 Estadísticas Descriptivas.\n",
        "#Paso 5 Identificación de Cuentas con Mayor Demora.\n",
        "#Paso 6 Análisis por Gestor.\n",
        "#Paso 7 Identificación de Gestores con Mayor Demora.\n",
        "#Paso 8 Agrupar los datos por 'id_agente' para obtener el volumen de cuentas y la demora promedio.\n",
        "#Paso 9 Obtener la Cantidad de Cuentas Asignadas por Gestor.\n",
        "#Paso 10 Obtener la Distribución por Estado.\n",
        "#Paso 11. Gestores con más visitas y sus tiempos promedio de demora."
      ],
      "metadata": {
        "id": "kqWiVs9NvlNp"
      },
      "execution_count": null,
      "outputs": []
    },
    {
      "cell_type": "code",
      "source": [
        "#Paso 2. Verificar la Estructura del DataFrame: Primero, asegúrate de que la columna fec_finalizada ajustada esté en el formato de fecha correcto. Si es un objeto datetime64[ns], puedes proceder.\n",
        "print(df['fec_finalizada ajustada'].dtypes)\n"
      ],
      "metadata": {
        "colab": {
          "base_uri": "https://localhost:8080/"
        },
        "id": "uGefkedXxCXu",
        "outputId": "1f62eb46-8a82-4c12-f5e9-622440ad4513"
      },
      "execution_count": 6,
      "outputs": [
        {
          "output_type": "stream",
          "name": "stdout",
          "text": [
            "datetime64[ns]\n"
          ]
        }
      ]
    },
    {
      "cell_type": "code",
      "source": [
        "#Paso 3 Calcular la Demora: Utiliza la columna ajustada para calcular la nueva columna de demora:\n",
        "df['demora'] = (df['fec_finalizada ajustada'] - df['fec_apartado']).dt.total_seconds() / 3600  # en horas\n"
      ],
      "metadata": {
        "id": "1kbBfDh1xEq9"
      },
      "execution_count": 7,
      "outputs": []
    },
    {
      "cell_type": "code",
      "source": [
        "#Paso 4 Estadísticas Descriptivas:\n",
        "print(\"\\nEstadísticas de demora:\")\n",
        "print(df['demora'].describe())\n"
      ],
      "metadata": {
        "colab": {
          "base_uri": "https://localhost:8080/"
        },
        "id": "wSaUJ4nPxLDf",
        "outputId": "7efb43a1-132a-42ed-b216-75ac9600bb08"
      },
      "execution_count": 8,
      "outputs": [
        {
          "output_type": "stream",
          "name": "stdout",
          "text": [
            "\n",
            "Estadísticas de demora:\n",
            "count    1036.000000\n",
            "mean       31.541475\n",
            "std        21.315467\n",
            "min         0.010556\n",
            "25%        11.168264\n",
            "50%        31.107361\n",
            "75%        54.396944\n",
            "max        71.823889\n",
            "Name: demora, dtype: float64\n"
          ]
        }
      ]
    },
    {
      "cell_type": "code",
      "source": [
        "##Explicación:\n",
        "#Count: 1036 cuentas tienen datos válidos. Esto indica que estamos analizando 1036 cuentas donde se registró la demora correctamente.\n",
        "\n",
        "#Mean: 31.54 horas es el tiempo promedio de demora. En promedio, las cuentas tardan poco más de un día y medio en ser finalizadas después de ser apartadas por los gestores.\n",
        "\n",
        "#Std: 21.32 horas es la desviación estándar. Esto nos dice que los tiempos de demora varían bastante entre las cuentas. Algunas se resuelven muy rápido, mientras que otras toman mucho más tiempo.\n",
        "\n",
        "#Min: 0.01 horas es la demora mínima. Hay cuentas que fueron finalizadas casi inmediatamente después de haber sido apartadas.\n",
        "\n",
        "#25% (Primer cuartil): 11.17 horas. El 25% de las cuentas más rápidas tardaron menos de 11.17 horas en ser finalizadas.\n",
        "\n",
        "#50% (Mediana): 31.11 horas. La mitad de las cuentas se finalizaron en menos de 31.11 horas, lo que está cerca del promedio.\n",
        "\n",
        "#75% (Tercer cuartil): 54.40 horas. El 75% de las cuentas tardan menos de 54.40 horas en ser finalizadas, pero el 25% restante toma más tiempo.\n",
        "\n",
        "#Max: 71.82 horas es el tiempo máximo de demora. Algunas cuentas pueden tardar hasta tres días en ser finalizadas.\n"
      ],
      "metadata": {
        "id": "nXnbA3ohyV7R"
      },
      "execution_count": null,
      "outputs": []
    },
    {
      "cell_type": "code",
      "source": [
        "#Paso 5 Identificación de Cuentas con Mayor Demora:\n",
        "#Puedes investigar las cuentas que tardaron más (por ejemplo, las que tienen demoras superiores a la media) para entender por qué se están demorando. Esto podría incluir revisiones de su estado, gestor asignado, o cualquier otra variable relevante.\n",
        "cuentas_largas_demoras = df[df['demora'] > df['demora'].mean()]\n",
        "print(\"Cuentas con demoras mayores a la media:\")\n",
        "print(cuentas_largas_demoras[['fec_apartado', 'fec_finalizada ajustada', 'demora']])"
      ],
      "metadata": {
        "colab": {
          "base_uri": "https://localhost:8080/"
        },
        "id": "VdbnWkKxzRE3",
        "outputId": "7c5fd462-b028-465c-93f2-1b0ffbbde927"
      },
      "execution_count": 9,
      "outputs": [
        {
          "output_type": "stream",
          "name": "stdout",
          "text": [
            "Cuentas con demoras mayores a la media:\n",
            "            fec_apartado fec_finalizada ajustada     demora\n",
            "531  2023-07-07 16:22:21              2023-07-09  31.627500\n",
            "532  2024-05-30 16:19:19              2024-06-01  31.678056\n",
            "533  2023-08-11 16:16:55              2023-08-13  31.718056\n",
            "534  2024-07-22 16:05:13              2024-07-24  31.913056\n",
            "535  2024-02-13 16:03:33              2024-02-15  31.940833\n",
            "...                  ...                     ...        ...\n",
            "1031 2024-01-18 00:51:51              2024-01-21  71.135833\n",
            "1032 2023-07-14 00:27:43              2023-07-17  71.538056\n",
            "1033 2023-07-14 00:27:17              2023-07-17  71.545278\n",
            "1034 2024-05-14 00:17:07              2024-05-17  71.714722\n",
            "1035 2023-03-15 00:10:34              2023-03-18  71.823889\n",
            "\n",
            "[505 rows x 3 columns]\n"
          ]
        }
      ]
    },
    {
      "cell_type": "code",
      "source": [
        "#Algunas cuentas superan apenas la media (alrededor de 31.5 horas), pero hay otras que toman muchísimo más tiempo (alrededor de 71 horas), lo que podría indicar problemas de eficiencia con ciertos casos o agentes. Los tiempos más largos merecen una revisión para entender las razones de esas demoras."
      ],
      "metadata": {
        "id": "CLEhqAES8OGO"
      },
      "execution_count": null,
      "outputs": []
    },
    {
      "cell_type": "code",
      "source": [
        "# Paso 6 Análisis por Gestor: Puedes segmentar la información por gestor para identificar si algunos gestores tienen un rendimiento mejor o peor en cuanto a la gestión del tiempo:\n",
        "# Agrupa las cuentas demoradas por el id del agente (gestor)\n",
        "demoras_por_gestor = cuentas_largas_demoras.groupby('id_agente')['demora'].mean().sort_values(ascending=False)\n",
        "print(\"Tiempos de demora por gestor:\")\n",
        "print(demoras_por_gestor)\n"
      ],
      "metadata": {
        "colab": {
          "base_uri": "https://localhost:8080/"
        },
        "id": "80eRi-nYzeMX",
        "outputId": "a208e1c7-5141-4eff-d455-2989bc681b34"
      },
      "execution_count": 10,
      "outputs": [
        {
          "output_type": "stream",
          "name": "stdout",
          "text": [
            "Tiempos de demora por gestor:\n",
            "id_agente\n",
            "9078    63.716111\n",
            "9923    62.421389\n",
            "8773    62.413611\n",
            "7377    61.642778\n",
            "9429    61.492778\n",
            "          ...    \n",
            "3725    35.026667\n",
            "9686    33.316667\n",
            "9718    33.151944\n",
            "5196    32.583056\n",
            "9590    32.273611\n",
            "Name: demora, Length: 87, dtype: float64\n"
          ]
        }
      ]
    },
    {
      "cell_type": "code",
      "source": [
        "# Identificación de Gestores con Mayor Demora:\n",
        "#Puedes enfocarte en los gestores con las mayores demoras y analizar las causas posibles (¿falta de visitas? ¿problemas en ciertas regiones?).\n",
        "# Gestores con mayores demoras (mayores a la media)\n",
        "gestores_mayores_demoras = cuentas_largas_demoras.groupby('id_agente')['demora'].mean().sort_values(ascending=False)\n",
        "print(\"Gestores con mayores tiempos de demora:\")\n",
        "print(gestores_mayores_demoras.head(10))  # Ver los 10 gestores con más demora\n"
      ],
      "metadata": {
        "colab": {
          "base_uri": "https://localhost:8080/"
        },
        "id": "-41TeWAL1QTN",
        "outputId": "1a02c854-0567-42e2-ca78-eb7b6754483e"
      },
      "execution_count": null,
      "outputs": [
        {
          "output_type": "stream",
          "name": "stdout",
          "text": [
            "Gestores con mayores tiempos de demora:\n",
            "id_agente\n",
            "9078    63.716111\n",
            "9923    62.421389\n",
            "8773    62.413611\n",
            "7377    61.642778\n",
            "9429    61.492778\n",
            "9451    61.305833\n",
            "6774    61.180611\n",
            "3805    61.132778\n",
            "7486    61.060139\n",
            "1908    60.610556\n",
            "Name: demora, dtype: float64\n"
          ]
        }
      ]
    },
    {
      "cell_type": "code",
      "source": [
        "#Paso 7 Agrupar por gestor (id_agente) y calcular el promedio de demora\n",
        "demoras_por_gestor = cuentas_largas_demoras.groupby('id_agente')['demora'].mean().sort_values(ascending=False)\n",
        "\n",
        "# Seleccionar los 10 gestores con mayor promedio de demora\n",
        "top_10_gestores = demoras_por_gestor.nlargest(10)\n",
        "\n",
        "# Crear el gráfico de barras para los gestores con mayor promedio de demora\n",
        "plt.figure(figsize=(10, 6))\n",
        "top_10_gestores.plot(kind='bar', color='red')\n",
        "\n",
        "# Añadir etiquetas y título\n",
        "plt.title('Top 10 Gestores con Mayor Promedio de Demora')\n",
        "plt.xlabel('ID del Gestor')\n",
        "plt.ylabel('Promedio de Demora (días)')\n",
        "plt.show()"
      ],
      "metadata": {
        "colab": {
          "base_uri": "https://localhost:8080/",
          "height": 585
        },
        "id": "Wo40oi527hpA",
        "outputId": "419c36ab-1c72-445b-f45f-08b69a887fca"
      },
      "execution_count": 11,
      "outputs": [
        {
          "output_type": "display_data",
          "data": {
            "text/plain": [
              "<Figure size 1000x600 with 1 Axes>"
            ],
            "image/png": "[encoded data removed]"
          },
          "metadata": {}
        }
      ]
    },
    {
      "cell_type": "code",
      "source": [
        "# Paso 8 Agrupar los datos por 'id_agente' para obtener el volumen de cuentas y la demora promedio\n",
        "summary = df.groupby('id_agente').agg(\n",
        "    volumen=('id_externo_cliente', 'size'),  # Número de cuentas\n",
        "    mean_demora=('demora', 'mean')           # Demora promedio\n",
        ").reset_index()\n",
        "\n",
        "# Verifica el resumen\n",
        "print(summary)\n"
      ],
      "metadata": {
        "colab": {
          "base_uri": "https://localhost:8080/"
        },
        "id": "4dEkDJL5SxC0",
        "outputId": "9c4b9a99-4940-45f9-a017-7d375b72c1d9"
      },
      "execution_count": 12,
      "outputs": [
        {
          "output_type": "stream",
          "name": "stdout",
          "text": [
            "     id_agente  volumen  mean_demora\n",
            "0         1379       56    35.426027\n",
            "1         1577        4    35.284722\n",
            "2         1616       38    28.362844\n",
            "3         1643        8    28.191319\n",
            "4         1859        2    22.416806\n",
            "..         ...      ...          ...\n",
            "99        9820        6    41.107685\n",
            "100       9865        3    34.340370\n",
            "101       9923        1    62.421389\n",
            "102       9955        5    17.463667\n",
            "103       9985        1    13.753333\n",
            "\n",
            "[104 rows x 3 columns]\n"
          ]
        }
      ]
    },
    {
      "cell_type": "code",
      "source": [
        "#paso 9 Obtener la Cantidad de Cuentas Asignadas por Gestor: Puedes filtrar el DataFrame para contar cuántas cuentas están asignadas a cada uno de estos gestores.\n",
        "# Lista de gestores con alta demora\n",
        "gestores_alta_demora = [9078, 9923, 8773, 7377, 9429, 9451, 6774, 3805, 7486, 1908]\n",
        "\n",
        "# Filtrar las cuentas asignadas a estos gestores\n",
        "cuentas_gestores_alta_demora = df[df['id_agente'].isin(gestores_alta_demora)]\n",
        "\n",
        "# Contar la cantidad de cuentas asignadas por gestor\n",
        "cuentas_por_gestor = cuentas_gestores_alta_demora['id_agente'].value_counts()\n",
        "print(cuentas_por_gestor)\n"
      ],
      "metadata": {
        "colab": {
          "base_uri": "https://localhost:8080/"
        },
        "id": "cJRRr12_6ibA",
        "outputId": "131d6fc8-fd89-4c5d-9a09-c986e1c107e2"
      },
      "execution_count": 13,
      "outputs": [
        {
          "output_type": "stream",
          "name": "stdout",
          "text": [
            "id_agente\n",
            "6774    15\n",
            "7486     8\n",
            "9078     5\n",
            "9451     3\n",
            "1908     1\n",
            "3805     1\n",
            "9429     1\n",
            "7377     1\n",
            "8773     1\n",
            "9923     1\n",
            "Name: count, dtype: int64\n"
          ]
        }
      ]
    },
    {
      "cell_type": "code",
      "source": [
        "#Gráfico de Pastel: Cantidad de Cuentas Asignadas por Gestor\n",
        "plt.figure(figsize=(8, 8))\n",
        "cuentas_por_gestor.plot(kind='pie', autopct='%1.1f%%', startangle=90, colors=plt.cm.Paired.colors)\n",
        "plt.title('Distribución de Cuentas Asignadas a Gestores con Alta Demora', fontsize=16)\n",
        "plt.ylabel('')  # Eliminar la etiqueta del eje Y\n",
        "plt.tight_layout()\n",
        "\n",
        "# Mostrar el gráfico\n",
        "plt.show()"
      ],
      "metadata": {
        "colab": {
          "base_uri": "https://localhost:8080/",
          "height": 807
        },
        "id": "SZwYFLIXpxsT",
        "outputId": "e9ed9d35-de24-466a-adc2-0bbb874dcbcc"
      },
      "execution_count": 14,
      "outputs": [
        {
          "output_type": "display_data",
          "data": {
            "text/plain": [
              "<Figure size 800x800 with 1 Axes>"
            ],
            "image/png": "[encoded data removed]"
          },
          "metadata": {}
        }
      ]
    },
    {
      "cell_type": "code",
      "source": [
        "## Paso 10 Obtener la Distribución por Estado: También es importante ver en qué estados están asignadas las cuentas de cada gestor.\n",
        "# Agrupar por estado y gestor\n",
        "estados_por_gestor = cuentas_gestores_alta_demora.groupby(['id_agente', 'id_estado']).size().unstack(fill_value=0)\n",
        "print(estados_por_gestor)\n"
      ],
      "metadata": {
        "colab": {
          "base_uri": "https://localhost:8080/"
        },
        "id": "iHQxx-sI6sLx",
        "outputId": "a7c0ddd6-e3b9-4d9b-ddb7-7f3ec2dce5c2"
      },
      "execution_count": 15,
      "outputs": [
        {
          "output_type": "stream",
          "name": "stdout",
          "text": [
            "id_estado  10  11  14  19  21  25  26  30\n",
            "id_agente                                \n",
            "1908        0   0   0   0   0   0   0   1\n",
            "3805        0   0   0   0   0   1   0   0\n",
            "6774        0   0   0   0  15   0   0   0\n",
            "7377        0   0   0   0   1   0   0   0\n",
            "7486        0   0   8   0   0   0   0   0\n",
            "8773        0   0   0   1   0   0   0   0\n",
            "9078        0   5   0   0   0   0   0   0\n",
            "9429        0   0   0   1   0   0   0   0\n",
            "9451        0   0   0   0   0   0   3   0\n",
            "9923        1   0   0   0   0   0   0   0\n"
          ]
        }
      ]
    },
    {
      "cell_type": "code",
      "source": [
        "#paso 11. Gestores con más visitas y sus tiempos promedio de demora."
      ],
      "metadata": {
        "id": "ZyxsGIH21cNH"
      },
      "execution_count": null,
      "outputs": []
    },
    {
      "cell_type": "code",
      "source": [
        "# Calcular la cantidad de visitas por gestor\n",
        "visitas_por_gestor = cuentas_largas_demoras.groupby('id_agente')['id_visita'].count()\n",
        "\n",
        "# Calcular el promedio de tiempo de demora por gestor\n",
        "promedio_demoras_por_gestor = cuentas_largas_demoras.groupby('id_agente')['demora'].mean()\n",
        "\n",
        "# Combinar ambos resultados en un solo DataFrame\n",
        "resultado_combined = pd.DataFrame({\n",
        "    'cantidad_visitas': visitas_por_gestor,\n",
        "    'promedio_demora': promedio_demoras_por_gestor\n",
        "})\n",
        "\n",
        "# Ordenar el DataFrame por cantidad de visitas (de mayor a menor)\n",
        "resultado_combined = resultado_combined.sort_values(by='cantidad_visitas', ascending=False)\n",
        "\n",
        "# Mostrar los 10 gestores con más visitas y sus tiempos de demora\n",
        "print(\"Gestores con más visitas y sus tiempos promedio de demora:\")\n",
        "print(resultado_combined.head(10))\n",
        "\n"
      ],
      "metadata": {
        "colab": {
          "base_uri": "https://localhost:8080/"
        },
        "id": "1OebFZd5-jK2",
        "outputId": "d83f318b-edcb-4e65-f44a-8f8f76314e6f"
      },
      "execution_count": 16,
      "outputs": [
        {
          "output_type": "stream",
          "name": "stdout",
          "text": [
            "Gestores con más visitas y sus tiempos promedio de demora:\n",
            "           cantidad_visitas  promedio_demora\n",
            "id_agente                                   \n",
            "3020                     41        47.529309\n",
            "7990                     34        48.853832\n",
            "4451                     32        51.050955\n",
            "1379                     31        53.305296\n",
            "4963                     28        48.669087\n",
            "7635                     23        53.758720\n",
            "5038                     21        57.190357\n",
            "3755                     19        45.136433\n",
            "1616                     16        49.268247\n",
            "6387                     15        55.046259\n"
          ]
        }
      ]
    },
    {
      "cell_type": "code",
      "source": [
        "##Análisis de Resultados\n",
        "#Distribución de Cuentas:\n",
        "\n",
        "#Gestor 6774 tiene la mayor cantidad de cuentas (15). Esto puede indicar que está manejando una carga de trabajo significativa, lo que podría contribuir a sus altos tiempos de demora.\n",
        "#Gestores como 7486 y 9078 también tienen un número razonable de cuentas (8 y 5 respectivamente), lo que sugiere que pueden estar en una situación similar.\n",
        "#Los demás gestores (9451, 1908, 3805, 9429, 7377, 8773 y 9923) tienen una o muy pocas cuentas asignadas, lo que puede indicar que su carga de trabajo es menor.\n",
        "\n",
        "#la hipótesis de que una sobrecarga de cuentas es la causa principal de demoras en la gestión de visitas no es respaldada por los datos. Los gestores con más cuentas asignadas no muestran tiempos de demora significativamente mayores, ya que sus tiempos promedio se mantienen por debajo de las 60 horas.\n",
        "\n",
        "#Estrategias Potenciales:\n",
        "\n",
        "#Reasignación de Cuentas: Considerar la posibilidad de redistribuir algunas cuentas de los gestores más ocupados a aquellos con menos cuentas asignadas.\n",
        "#Capacitación y Soporte: Proporcionar capacitación adicional o apoyo a los gestores con mayor carga de trabajo para ayudarlos a gestionar mejor su tiempo y recursos.\n",
        "#Monitoreo y Evaluación: Establecer un sistema de monitoreo para evaluar la carga de trabajo y el desempeño de cada gestor, lo que permitirá identificar rápidamente a aquellos que puedan necesitar apoyo."
      ],
      "metadata": {
        "id": "PFRLFoaC7iv9"
      },
      "execution_count": null,
      "outputs": []
    },
    {
      "cell_type": "code",
      "source": [
        "#Hipótesis derivadas:\n",
        "#Falta de visitas como posible causa de demora: Gestores con pocas visitas podrían estar teniendo problemas para completar cuentas en tiempo, lo que sugiere que incrementar el número de visitas podría mejorar su eficiencia.\n"
      ],
      "metadata": {
        "id": "ZtOWb5Yu2Uih"
      },
      "execution_count": null,
      "outputs": []
    },
    {
      "cell_type": "code",
      "source": [
        "#Paso 12 Calcular la cantidad de visitas por gestor\n",
        "visitas_por_gestor = cuentas_largas_demoras.groupby('id_agente')['id_visita'].count()\n",
        "\n",
        "# Calcular el promedio de tiempo de demora por gestor\n",
        "promedio_demoras_por_gestor = cuentas_largas_demoras.groupby('id_agente')['demora'].mean()\n",
        "\n",
        "# Combinar ambos resultados en un solo DataFrame\n",
        "resultado_combined = pd.DataFrame({\n",
        "    'cantidad_visitas': visitas_por_gestor,\n",
        "    'promedio_demora': promedio_demoras_por_gestor\n",
        "})\n",
        "\n",
        "# Ordenar el DataFrame por cantidad de visitas (de menor a mayor)\n",
        "resultado_combined = resultado_combined.sort_values(by='cantidad_visitas', ascending=True)\n",
        "\n",
        "# Mostrar los 10 gestores con menos visitas y sus tiempos de demora\n",
        "print(\"Gestores con menos visitas y sus tiempos promedio de demora:\")\n",
        "print(resultado_combined.head(10))"
      ],
      "metadata": {
        "colab": {
          "base_uri": "https://localhost:8080/"
        },
        "id": "fccDD-RlhtLo",
        "outputId": "5ed4d21a-018a-4a80-a420-7b092596fef4"
      },
      "execution_count": 17,
      "outputs": [
        {
          "output_type": "stream",
          "name": "stdout",
          "text": [
            "Gestores con menos visitas y sus tiempos promedio de demora:\n",
            "           cantidad_visitas  promedio_demora\n",
            "id_agente                                   \n",
            "9955                      1        35.553333\n",
            "8446                      1        50.628056\n",
            "7448                      1        58.014444\n",
            "7422                      1        59.106944\n",
            "7377                      1        61.642778\n",
            "6797                      1        37.468056\n",
            "8773                      1        62.413611\n",
            "8902                      1        47.631667\n",
            "6306                      1        50.961667\n",
            "8914                      1        55.758333\n"
          ]
        }
      ]
    },
    {
      "cell_type": "code",
      "source": [
        "#Hipótesis:\n",
        "#La falta de visitas podría estar afectando la eficiencia de los gestores. En otras palabras, los gestores que realizan menos visitas tienen mayores tiempos de demora, lo que sugiere que aumentar el número de visitas podría mejorar su desempeño.\n",
        "\n",
        "#Análisis de los resultados:\n",
        "#Todos los gestores mencionados tienen una sola cuenta asignada, lo cual limita su capacidad de optimizar sus tiempos con base en la experiencia o la carga de trabajo.\n",
        "\n",
        "#Los tiempos promedio de demora oscilan entre 35.55 horas (gestor 9955) y 62.41 horas (gestor 8773). Aunque algunos gestores tienen tiempos razonablemente bajos (por ejemplo, menos de 40 horas), otros se acercan o superan las 60 horas.\n",
        "\n",
        "#Esto sugiere que aquellos gestores que tienen menos cuentas asignadas pueden tener problemas para completar las cuentas en tiempos eficientes. Esto podría estar relacionado con la falta de experiencia o la poca presión para cumplir con plazos más estrictos debido a la baja carga de trabajo."
      ],
      "metadata": {
        "id": "QA5-9orGkXyj"
      },
      "execution_count": null,
      "outputs": []
    },
    {
      "cell_type": "code",
      "source": [
        "#Paso 13 Calcular la cantidad de cuentas por gestor y por estado\n",
        "visitas_por_gestor_estado = cuentas_largas_demoras.groupby(['id_agente', 'id_estado'])['id_visita'].count()\n",
        "\n",
        "# Calcular el promedio de tiempo de demora por gestor y por estado\n",
        "promedio_demoras_por_gestor_estado = cuentas_largas_demoras.groupby(['id_agente', 'id_estado'])['demora'].mean()\n",
        "\n",
        "# Combinar ambos resultados en un solo DataFrame\n",
        "resultado_combined_estado = pd.DataFrame({\n",
        "    'cantidad_visitas': visitas_por_gestor_estado,\n",
        "    'promedio_demora': promedio_demoras_por_gestor_estado\n",
        "})\n",
        "\n",
        "# Ordenar el DataFrame por cantidad de visitas (de menor a mayor)\n",
        "resultado_combined_estado = resultado_combined_estado.sort_values(by='cantidad_visitas', ascending=True)\n",
        "\n",
        "# Mostrar los estados con menos cuentas asignadas por gestor y sus tiempos promedio de demora\n",
        "print(\"Gestores con menos visitas por estado y sus tiempos promedio de demora:\")\n",
        "print(resultado_combined_estado.head(10))\n"
      ],
      "metadata": {
        "colab": {
          "base_uri": "https://localhost:8080/"
        },
        "id": "gEnikcB3l7dz",
        "outputId": "02a1b2f8-c409-4321-d6cf-78c4b8052ba7"
      },
      "execution_count": 18,
      "outputs": [
        {
          "output_type": "stream",
          "name": "stdout",
          "text": [
            "Gestores con menos visitas por estado y sus tiempos promedio de demora:\n",
            "                     cantidad_visitas  promedio_demora\n",
            "id_agente id_estado                                   \n",
            "9955      2                         1        35.553333\n",
            "9718      25                        1        33.151944\n",
            "5196      17                        1        32.583056\n",
            "6306      30                        1        50.961667\n",
            "8867      11                        1        31.627500\n",
            "9590      14                        1        32.273611\n",
            "9607      14                        1        54.175556\n",
            "6797      12                        1        37.468056\n",
            "8773      19                        1        62.413611\n",
            "7377      21                        1        61.642778\n"
          ]
        }
      ]
    },
    {
      "cell_type": "code",
      "source": [
        "#Gestores con menor carga de visitas: Los gestores listados tienen una cantidad baja de visitas (la mayoría son 1), lo que respalda la hipótesis de que los gestores con menos cuentas pueden estar enfrentando problemas para completar sus tareas a tiempo.\n",
        "\n",
        "#Promedios de demora: A pesar de tener una baja carga de visitas, los tiempos de demora son variados. Por ejemplo, el gestor 8773 tiene un promedio de demora de 62.41 horas, mientras que el gestor 5196 tiene un promedio de 32.58 horas. Esto sugiere que la carga de trabajo no es el único factor que afecta el rendimiento.\n",
        "\n",
        "#Validación de la hipótesis: La hipótesis que sugiere que \"los gestores con pocas visitas podrían estar teniendo problemas para completar cuentas en tiempo\" parece estar respaldada, ya que todos tienen pocas visitas, pero los tiempos de demora son bastante altos en algunos casos."
      ],
      "metadata": {
        "id": "Y5RQq3DBmVYh"
      },
      "execution_count": null,
      "outputs": []
    },
    {
      "cell_type": "code",
      "source": [],
      "metadata": {
        "id": "TEDLxdckbnfn"
      },
      "execution_count": null,
      "outputs": []
    },
    {
      "cell_type": "code",
      "source": [
        "# 4 Entrenamiento y testeo\n",
        "\n",
        "#Se utilizarán dos modelos de Machine Learning y utilicemos validación cruzada para evaluar su desempeño. Se utilizará scikit-learn. Vamos a usar Random Forest y Regresión Lineal como nuestros dos modelos.\n",
        "\n",
        "#Paso 1:Convertir columnas de fechas a días desde una fecha de referencia\n",
        "#Paso 2: Crear y Evaluar el Modelo de Random Forest\n",
        "#Paso 3: Ajustar los Hiperparámetros\n",
        "#Paso 5 ajustar el modelo con los mejores hiperparámetros\n",
        "#Paso 6 análisis modelo de random forest\n",
        "#Paso 7 Crear y Evaluar el Modelo de XGBoost\n",
        "#Paso 8 Definir los hiperparámetros a ajustar\n",
        "#Paso 9 Definir los hiperparámetros a ajustar\n",
        "#Paso 10 Crear y Ajustar el Modelo con los Hiperparámetros Ajustados\n",
        "#Paso 11 análisis final"
      ],
      "metadata": {
        "id": "6Lv0rJ3AeBt_"
      },
      "execution_count": null,
      "outputs": []
    },
    {
      "cell_type": "code",
      "source": [
        "#Paso 1 Convertir columnas de fechas a días desde una fecha de referencia: Aquí simplemente restamos una fecha de referencia y convertimos el resultado a días."
      ],
      "metadata": {
        "id": "OLwBDfT8j7NL"
      },
      "execution_count": null,
      "outputs": []
    },
    {
      "cell_type": "code",
      "source": [
        "# Definir la fecha de referencia\n",
        "fecha_referencia = pd.to_datetime('1970-01-01')\n",
        "\n",
        "# Convertir columnas de fechas a días\n",
        "fechas = ['fec_activacion', 'fec_asignacion', 'fec_apartado', 'fec_finalizada', 'fec_finalizada ajustada']\n",
        "for fecha in fechas:\n",
        "    df[fecha] = (df[fecha] - fecha_referencia).dt.days\n"
      ],
      "metadata": {
        "id": "lWLTu0hhjm3m"
      },
      "execution_count": null,
      "outputs": []
    },
    {
      "cell_type": "code",
      "source": [
        "# Verificar los tipos de las columnas\n",
        "print(df.dtypes)\n"
      ],
      "metadata": {
        "colab": {
          "base_uri": "https://localhost:8080/"
        },
        "id": "1Ye4JCAmjqMl",
        "outputId": "179936a0-4220-4aab-d5a9-16179f0ee00a"
      },
      "execution_count": null,
      "outputs": [
        {
          "output_type": "stream",
          "name": "stdout",
          "text": [
            "fec_activacion                      int64\n",
            "id_externo_cliente                 object\n",
            "id_cuenta                           int64\n",
            "id_cliente                          int64\n",
            "id_acreditado                       int64\n",
            "id_acreditado_cuenta_domicilio      int64\n",
            "id_estado                           int64\n",
            "id_municipio                        int64\n",
            "fec_asignacion                      int64\n",
            "fec_apartado                        int64\n",
            "id_agente_apartado                  int64\n",
            "id_agente                           int64\n",
            "id_visita                           int64\n",
            "fec_finalizada                      int64\n",
            "fec_finalizada ajustada             int64\n",
            "nuevo_id                            int64\n",
            "demora                            float64\n",
            "dtype: object\n"
          ]
        }
      ]
    },
    {
      "cell_type": "code",
      "source": [
        "# Convertir la columna 'id_externo_cliente' a categorías numéricas\n",
        "df['id_externo_cliente'] = pd.factorize(df['id_externo_cliente'])[0]"
      ],
      "metadata": {
        "id": "hDFNK9l8jwMD"
      },
      "execution_count": null,
      "outputs": []
    },
    {
      "cell_type": "code",
      "source": [
        "#Paso 1: Crear y Evaluar el Modelo de Random Forest\n",
        "from sklearn.model_selection import train_test_split, cross_val_score\n",
        "from sklearn.ensemble import RandomForestRegressor\n",
        "from sklearn.metrics import mean_squared_error\n",
        "import numpy as np\n",
        "\n",
        "# Supongamos que 'df' es tu DataFrame\n",
        "X = df.drop('demora', axis=1)  # Ajusta esto según tu variable objetivo\n",
        "y = df['demora']\n",
        "\n",
        "# Dividir el dataset en entrenamiento y prueba (80% entrenamiento, 20% prueba)\n",
        "X_train, X_test, y_train, y_test = train_test_split(X, y, test_size=0.2, random_state=42)\n",
        "\n",
        "# Crear el modelo de Random Forest\n",
        "rf_model = RandomForestRegressor(random_state=42)\n",
        "\n",
        "# Validación cruzada\n",
        "rf_cv_scores = cross_val_score(rf_model, X_train, y_train, cv=5, scoring='neg_mean_squared_error')\n",
        "rf_rmse_scores = np.sqrt(-rf_cv_scores)  # Convertir a RMSE\n",
        "print(\"Random Forest RMSE (validación cruzada):\", rf_rmse_scores.mean())\n"
      ],
      "metadata": {
        "colab": {
          "base_uri": "https://localhost:8080/"
        },
        "id": "i-MyIf5frVxM",
        "outputId": "8d5622ff-608b-4b8c-b788-3f86751f72bc"
      },
      "execution_count": null,
      "outputs": [
        {
          "output_type": "stream",
          "name": "stdout",
          "text": [
            "Random Forest RMSE (validación cruzada): 0.7596454395483947\n"
          ]
        }
      ]
    },
    {
      "cell_type": "code",
      "source": [
        "#Paso 2: Entrenar el Modelo y Evaluar en el Conjunto de Prueba\n",
        "# Entrenar el modelo\n",
        "rf_model.fit(X_train, y_train)\n",
        "\n",
        "# Realizar predicciones en el conjunto de prueba\n",
        "y_pred_rf = rf_model.predict(X_test)\n",
        "\n",
        "# Calcular el RMSE para el conjunto de prueba\n",
        "rf_test_rmse = np.sqrt(mean_squared_error(y_test, y_pred_rf))\n",
        "print(\"Random Forest Test RMSE:\", rf_test_rmse)\n"
      ],
      "metadata": {
        "colab": {
          "base_uri": "https://localhost:8080/"
        },
        "id": "g55gGTOWremd",
        "outputId": "0049e820-0e80-4636-d349-5019c84bbbcc"
      },
      "execution_count": null,
      "outputs": [
        {
          "output_type": "stream",
          "name": "stdout",
          "text": [
            "Random Forest Test RMSE: 0.28506102207600803\n"
          ]
        }
      ]
    },
    {
      "cell_type": "code",
      "source": [
        "#Paso 3: Ajustar los Hiperparámetros\n",
        "# Usar solo un subconjunto del 10% de los datos para el ajuste\n",
        "X_subset = X.sample(frac=0.1, random_state=42)\n",
        "y_subset = y.loc[X_subset.index]  # Asegúrate de que 'y' tenga el mismo índice\n",
        "\n",
        "from sklearn.model_selection import GridSearchCV\n",
        "\n",
        "# Definir el espacio de búsqueda de hiperparámetros\n",
        "param_grid = {\n",
        "    'n_estimators': [100, 200],\n",
        "    'max_depth': [None, 10],\n",
        "    'min_samples_split': [2],\n",
        "    'min_samples_leaf': [1]\n",
        "}\n",
        "\n",
        "# Ajustar los hiperparámetros\n",
        "grid_search = GridSearchCV(RandomForestRegressor(random_state=42),\n",
        "                           param_grid,\n",
        "                           cv=3,\n",
        "                           scoring='neg_mean_squared_error',\n",
        "                           n_jobs=-1)\n",
        "\n",
        "grid_search.fit(X_subset, y_subset)\n",
        "\n",
        "# Mostrar los mejores parámetros\n",
        "print(\"Mejores parámetros:\", grid_search.best_params_)\n"
      ],
      "metadata": {
        "colab": {
          "base_uri": "https://localhost:8080/"
        },
        "id": "t7oA-C7bri_3",
        "outputId": "ad8431b5-53eb-4400-fb0c-17bc2132a377"
      },
      "execution_count": null,
      "outputs": [
        {
          "output_type": "stream",
          "name": "stdout",
          "text": [
            "Mejores parámetros: {'max_depth': 10, 'min_samples_leaf': 1, 'min_samples_split': 2, 'n_estimators': 200}\n"
          ]
        }
      ]
    },
    {
      "cell_type": "code",
      "source": [
        "#Paso 5 ajustar el modelo con los mejores hiperparámetros, entrenamos el modelo de Random Forest nuevamente utilizando estos valores y evaluar su desempeño."
      ],
      "metadata": {
        "id": "yOyYoE-GsBFQ"
      },
      "execution_count": null,
      "outputs": []
    },
    {
      "cell_type": "code",
      "source": [
        "from sklearn.ensemble import RandomForestRegressor\n",
        "\n",
        "# Entrenar el modelo con los mejores hiperparámetros\n",
        "best_rf_model = RandomForestRegressor(\n",
        "    n_estimators=200,\n",
        "    max_depth=10,\n",
        "    min_samples_split=2,\n",
        "    min_samples_leaf=1,\n",
        "    random_state=42\n",
        ")\n",
        "\n",
        "# Ajustar el modelo\n",
        "best_rf_model.fit(X_train, y_train)\n",
        "\n",
        "# Predecir en el conjunto de prueba\n",
        "y_pred_best_rf = best_rf_model.predict(X_test)\n",
        "\n",
        "# Calcular el RMSE\n",
        "best_rf_test_rmse = np.sqrt(mean_squared_error(y_test, y_pred_best_rf))\n",
        "\n",
        "print(\"Random Forest Test RMSE con Hiperparámetros Ajustados:\", best_rf_test_rmse)\n"
      ],
      "metadata": {
        "colab": {
          "base_uri": "https://localhost:8080/"
        },
        "id": "LHx3JEH7sNio",
        "outputId": "b96f03a3-bea5-419f-fa3f-a7877e884838"
      },
      "execution_count": null,
      "outputs": [
        {
          "output_type": "stream",
          "name": "stdout",
          "text": [
            "Random Forest Test RMSE con Hiperparámetros Ajustados: 0.2856815472207402\n"
          ]
        }
      ]
    },
    {
      "cell_type": "code",
      "source": [
        "#Paso 6 Análisis Breve de Resultados\n",
        "#Modelo Utilizado: Implementamos un modelo de Random Forest para predecir la demora en el proceso.\n",
        "\n",
        "#RMSE Sin Ajustes: Obtuvimos un RMSE de 0.285 días, lo que significa que el modelo tiene un error promedio de 0.285 días en sus predicciones. Esto se traduce aproximadamente en 6.84 horas (0.285 * 24).\n",
        "\n",
        "#RMSE Con Hiperparámetros Ajustados: Tras ajustar los hiperparámetros, el RMSE fue de 0.286 días, lo que representa un error promedio de 0.286 días en las predicciones, es decir, aproximadamente 6.86 horas (0.286 * 24).\n",
        "\n",
        "#Interpretación: Aunque el RMSE con hiperparámetros ajustados es ligeramente superior, ambos resultados son muy cercanos. Esto sugiere que el modelo original ya estaba bien configurado, y el ajuste de hiperparámetros podría no ser necesario en este caso. Sin embargo, en otros escenarios o con diferentes datasets, este ajuste podría ofrecer mejoras."
      ],
      "metadata": {
        "id": "xUKBEMLLucNY"
      },
      "execution_count": null,
      "outputs": []
    },
    {
      "cell_type": "code",
      "source": [
        "#Paso 7 Crear y Evaluar el Modelo de XGBoost\n",
        "from xgboost import XGBRegressor\n",
        "from sklearn.model_selection import train_test_split, cross_val_score, GridSearchCV\n",
        "from sklearn.metrics import mean_squared_error\n",
        "from xgboost import XGBRegressor  # Asegúrate de importar XGBRegressor\n"
      ],
      "metadata": {
        "id": "hMO3rAwjv5Ph"
      },
      "execution_count": null,
      "outputs": []
    },
    {
      "cell_type": "code",
      "source": [
        "# Dividir el dataset en entrenamiento y prueba (80% entrenamiento, 20% prueba)\n",
        "X_train, X_test, y_train, y_test = train_test_split(X, y, test_size=0.2, random_state=42)\n"
      ],
      "metadata": {
        "id": "fQF8dR0Kw5Ym"
      },
      "execution_count": null,
      "outputs": []
    },
    {
      "cell_type": "code",
      "source": [
        "#Crear el modelo XGBoost\n",
        "xgb_model = XGBRegressor(random_state=42)\n",
        "\n",
        "# Validación cruzada\n",
        "xgb_cv_scores = cross_val_score(xgb_model, X, y, cv=5, scoring='neg_mean_squared_error')\n",
        "xgb_rmse_scores = np.sqrt(-xgb_cv_scores)  # Convertir a RMSE\n",
        "print(\"XGBoost RMSE (validación cruzada):\", xgb_rmse_scores.mean())\n",
        "\n",
        "# Entrenar el modelo\n",
        "xgb_model.fit(X_train, y_train)\n",
        "\n",
        "# Realizar predicciones\n",
        "y_pred_xgb = xgb_model.predict(X_test)\n",
        "\n",
        "# Calcular el RMSE para el conjunto de prueba\n",
        "xgb_test_rmse = np.sqrt(mean_squared_error(y_test, y_pred_xgb))\n",
        "print(\"XGBoost Test RMSE:\", xgb_test_rmse)\n"
      ],
      "metadata": {
        "colab": {
          "base_uri": "https://localhost:8080/"
        },
        "id": "tgCqMC72xKDt",
        "outputId": "f1d6ba14-37e1-4d37-8853-7aa4e5f64394"
      },
      "execution_count": null,
      "outputs": [
        {
          "output_type": "stream",
          "name": "stdout",
          "text": [
            "XGBoost RMSE (validación cruzada): 7.09573135001938\n",
            "XGBoost Test RMSE: 0.4829817966986101\n"
          ]
        }
      ]
    },
    {
      "cell_type": "code",
      "source": [
        "# paso 9 Definir los hiperparámetros a ajustar\n",
        "param_grid = {\n",
        "    'n_estimators': [100, 200],\n",
        "    'max_depth': [3, 5, 10],\n",
        "    'learning_rate': [0.01, 0.1, 0.2]\n",
        "}\n",
        "\n",
        "# Realizar la búsqueda en cuadrícula\n",
        "grid_search = GridSearchCV(estimator=xgb_model, param_grid=param_grid, cv=5, scoring='neg_mean_squared_error')\n",
        "grid_search.fit(X_train, y_train)\n",
        "\n",
        "# Mostrar los mejores parámetros\n",
        "print(\"Mejores parámetros:\", grid_search.best_params_)\n"
      ],
      "metadata": {
        "colab": {
          "base_uri": "https://localhost:8080/"
        },
        "id": "VyFezrbpxODU",
        "outputId": "e928f43b-eae3-4afe-9bb3-3c28badbec69"
      },
      "execution_count": null,
      "outputs": [
        {
          "output_type": "stream",
          "name": "stdout",
          "text": [
            "Mejores parámetros: {'learning_rate': 0.1, 'max_depth': 10, 'n_estimators': 200}\n"
          ]
        }
      ]
    },
    {
      "cell_type": "code",
      "source": [
        "# Paso 10 Crear y Ajustar el Modelo con los Hiperparámetros Ajustados\n",
        "# Crear el modelo XGBoost con los mejores hiperparámetros\n",
        "xgb_model = XGBRegressor(\n",
        "    learning_rate=0.1,\n",
        "    max_depth=10,\n",
        "    n_estimators=200,\n",
        "    random_state=42\n",
        ")\n",
        "\n",
        "# Ajustar el modelo a los datos de entrenamiento\n",
        "xgb_model.fit(X_train, y_train)\n",
        "\n",
        "# Realizar predicciones en el conjunto de prueba\n",
        "y_pred_xgb = xgb_model.predict(X_test)\n",
        "\n",
        "# Calcular el RMSE para el modelo ajustado\n",
        "xgb_test_rmse = np.sqrt(mean_squared_error(y_test, y_pred_xgb))\n",
        "\n",
        "# Mostrar el resultado\n",
        "print(\"XGBoost Test RMSE (con Hiperparámetros Ajustados):\", xgb_test_rmse)"
      ],
      "metadata": {
        "colab": {
          "base_uri": "https://localhost:8080/"
        },
        "id": "GdrS39Pxx17w",
        "outputId": "674ee03f-2b3c-43ef-c9df-b868b1bf004f"
      },
      "execution_count": null,
      "outputs": [
        {
          "output_type": "stream",
          "name": "stdout",
          "text": [
            "XGBoost Test RMSE (con Hiperparámetros Ajustados): 0.5472333335991525\n"
          ]
        }
      ]
    },
    {
      "cell_type": "code",
      "source": [
        "#Paso 11 análisis final"
      ],
      "metadata": {
        "id": "6iRJ8mvSyzGd"
      },
      "execution_count": null,
      "outputs": []
    },
    {
      "cell_type": "code",
      "source": [
        "#Resultados de los Modelos\n",
        "#Random Forest\n",
        "\n",
        "#RMSE (sin ajustes): 0.285\n",
        "#RMSE (con hiperparámetros ajustados): 0.286\n",
        "\n",
        "#XGBoost\n",
        "\n",
        "#RMSE (validación cruzada): 7.096\n",
        "#RMSE (Test): 0.483\n",
        "#RMSE (con Hiperparámetros Ajustados): 0.547"
      ],
      "metadata": {
        "id": "0QUzQjIVxicx"
      },
      "execution_count": null,
      "outputs": []
    },
    {
      "cell_type": "code",
      "source": [
        "#Selección del Mejor Modelo\n",
        "#Para seleccionar el mejor modelo, se considero las métricas de RMSE:\n",
        "\n",
        "#Random Forest tiene un RMSE de 0.285, que es el más bajo entre los modelos evaluados.\n",
        "#XGBoost, aunque tuvo un buen rendimiento, mostró un RMSE de 0.483 (y 0.547 con los hiperparámetros ajustados), que es mayor que el del Random Forest."
      ],
      "metadata": {
        "id": "bWQaP7wizp3k"
      },
      "execution_count": null,
      "outputs": []
    }
  ]
}